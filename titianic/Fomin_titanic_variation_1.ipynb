{
  "cells": [
    {
      "cell_type": "markdown",
      "metadata": {
        "id": "gG_DswiTlbAj"
      },
      "source": [
        "<h1><center><font size=\"6\">Classification</font></center></h1>\n",
        "\n"
      ]
    },
    {
      "cell_type": "markdown",
      "metadata": {
        "id": "GXW0NdKJzwKm"
      },
      "source": [
        "In your second homework you need to create a model that predicts which passengers survived the Titanic shipwreck."
      ]
    },
    {
      "cell_type": "code",
      "execution_count": 2,
      "metadata": {
        "_cell_guid": "b1076dfc-b9ad-4769-8c92-a6c4dae69d19",
        "_kg_hide-input": true,
        "_uuid": "8f2839f25d086af736a60e9eeb907d3b93b6e0e5",
        "id": "7R-UgUr7lbAr",
        "trusted": true
      },
      "outputs": [],
      "source": [
        "import pandas as pd\n",
        "import numpy as np\n",
        "import datetime\n",
        "import sys\n",
        "import os\n",
        "import random\n",
        "import matplotlib.pyplot as plt\n",
        "from sklearn.model_selection import train_test_split, KFold, GridSearchCV\n",
        "from sklearn import metrics"
      ]
    },
    {
      "cell_type": "code",
      "execution_count": 3,
      "metadata": {
        "_cell_guid": "79c7e3d0-c299-4dcb-8224-4455121ee9b0",
        "_kg_hide-input": true,
        "_uuid": "d629ff2d2480ee46fbb7e2d37f6b5fab8052498a",
        "id": "N_BhjxNKlbAs",
        "trusted": true
      },
      "outputs": [],
      "source": [
        "train_df=pd.read_csv('train.csv')\n",
        "test_df=pd.read_csv('test.csv')"
      ]
    },
    {
      "cell_type": "code",
      "execution_count": 5,
      "metadata": {},
      "outputs": [
        {
          "data": {
            "text/html": [
              "<div>\n",
              "<style scoped>\n",
              "    .dataframe tbody tr th:only-of-type {\n",
              "        vertical-align: middle;\n",
              "    }\n",
              "\n",
              "    .dataframe tbody tr th {\n",
              "        vertical-align: top;\n",
              "    }\n",
              "\n",
              "    .dataframe thead th {\n",
              "        text-align: right;\n",
              "    }\n",
              "</style>\n",
              "<table border=\"1\" class=\"dataframe\">\n",
              "  <thead>\n",
              "    <tr style=\"text-align: right;\">\n",
              "      <th></th>\n",
              "      <th>PassengerId</th>\n",
              "      <th>Survived</th>\n",
              "      <th>Pclass</th>\n",
              "      <th>Name</th>\n",
              "      <th>Sex</th>\n",
              "      <th>Age</th>\n",
              "      <th>SibSp</th>\n",
              "      <th>Parch</th>\n",
              "      <th>Ticket</th>\n",
              "      <th>Fare</th>\n",
              "      <th>Cabin</th>\n",
              "      <th>Embarked</th>\n",
              "    </tr>\n",
              "  </thead>\n",
              "  <tbody>\n",
              "    <tr>\n",
              "      <th>0</th>\n",
              "      <td>1</td>\n",
              "      <td>0</td>\n",
              "      <td>3</td>\n",
              "      <td>Braund, Mr. Owen Harris</td>\n",
              "      <td>male</td>\n",
              "      <td>22.0</td>\n",
              "      <td>1</td>\n",
              "      <td>0</td>\n",
              "      <td>A/5 21171</td>\n",
              "      <td>7.25</td>\n",
              "      <td>NaN</td>\n",
              "      <td>S</td>\n",
              "    </tr>\n",
              "  </tbody>\n",
              "</table>\n",
              "</div>"
            ],
            "text/plain": [
              "   PassengerId  Survived  Pclass                     Name   Sex   Age  SibSp  \\\n",
              "0            1         0       3  Braund, Mr. Owen Harris  male  22.0      1   \n",
              "\n",
              "   Parch     Ticket  Fare Cabin Embarked  \n",
              "0      0  A/5 21171  7.25   NaN        S  "
            ]
          },
          "metadata": {},
          "output_type": "display_data"
        },
        {
          "data": {
            "text/html": [
              "<div>\n",
              "<style scoped>\n",
              "    .dataframe tbody tr th:only-of-type {\n",
              "        vertical-align: middle;\n",
              "    }\n",
              "\n",
              "    .dataframe tbody tr th {\n",
              "        vertical-align: top;\n",
              "    }\n",
              "\n",
              "    .dataframe thead th {\n",
              "        text-align: right;\n",
              "    }\n",
              "</style>\n",
              "<table border=\"1\" class=\"dataframe\">\n",
              "  <thead>\n",
              "    <tr style=\"text-align: right;\">\n",
              "      <th></th>\n",
              "      <th>PassengerId</th>\n",
              "      <th>Pclass</th>\n",
              "      <th>Name</th>\n",
              "      <th>Sex</th>\n",
              "      <th>Age</th>\n",
              "      <th>SibSp</th>\n",
              "      <th>Parch</th>\n",
              "      <th>Ticket</th>\n",
              "      <th>Fare</th>\n",
              "      <th>Cabin</th>\n",
              "      <th>Embarked</th>\n",
              "    </tr>\n",
              "  </thead>\n",
              "  <tbody>\n",
              "    <tr>\n",
              "      <th>0</th>\n",
              "      <td>892</td>\n",
              "      <td>3</td>\n",
              "      <td>Kelly, Mr. James</td>\n",
              "      <td>male</td>\n",
              "      <td>34.5</td>\n",
              "      <td>0</td>\n",
              "      <td>0</td>\n",
              "      <td>330911</td>\n",
              "      <td>7.8292</td>\n",
              "      <td>NaN</td>\n",
              "      <td>Q</td>\n",
              "    </tr>\n",
              "  </tbody>\n",
              "</table>\n",
              "</div>"
            ],
            "text/plain": [
              "   PassengerId  Pclass              Name   Sex   Age  SibSp  Parch  Ticket  \\\n",
              "0          892       3  Kelly, Mr. James  male  34.5      0      0  330911   \n",
              "\n",
              "     Fare Cabin Embarked  \n",
              "0  7.8292   NaN        Q  "
            ]
          },
          "execution_count": 5,
          "metadata": {},
          "output_type": "execute_result"
        }
      ],
      "source": [
        "display(train_df.head(1))\n",
        "test_df.head(1)"
      ]
    },
    {
      "cell_type": "markdown",
      "metadata": {
        "_uuid": "55b41e17833da924475d38f9a8c22a1731efb8ab",
        "id": "iqEJo3vGlbAs"
      },
      "source": [
        "# <a id='3'>Data exploration</a>  \n",
        "\n",
        "We check the shape of train and test dataframes and also show a selection of rows, to have an initial understanding of the data.\n",
        "\n"
      ]
    },
    {
      "cell_type": "code",
      "execution_count": 158,
      "metadata": {
        "_kg_hide-input": true,
        "_uuid": "469fd9a6bba1521569b762a5030a1e1a50bff313",
        "colab": {
          "base_uri": "https://localhost:8080/",
          "height": 250
        },
        "id": "2wm530ZKlbAt",
        "outputId": "87879fb6-27f8-4dfc-9a8b-46722cdaa6e9",
        "trusted": true
      },
      "outputs": [
        {
          "data": {
            "text/html": [
              "<div>\n",
              "<style scoped>\n",
              "    .dataframe tbody tr th:only-of-type {\n",
              "        vertical-align: middle;\n",
              "    }\n",
              "\n",
              "    .dataframe tbody tr th {\n",
              "        vertical-align: top;\n",
              "    }\n",
              "\n",
              "    .dataframe thead th {\n",
              "        text-align: right;\n",
              "    }\n",
              "</style>\n",
              "<table border=\"1\" class=\"dataframe\">\n",
              "  <thead>\n",
              "    <tr style=\"text-align: right;\">\n",
              "      <th></th>\n",
              "      <th>PassengerId</th>\n",
              "      <th>Survived</th>\n",
              "      <th>Pclass</th>\n",
              "      <th>Name</th>\n",
              "      <th>Sex</th>\n",
              "      <th>Age</th>\n",
              "      <th>SibSp</th>\n",
              "      <th>Parch</th>\n",
              "      <th>Ticket</th>\n",
              "      <th>Fare</th>\n",
              "      <th>Cabin</th>\n",
              "      <th>Embarked</th>\n",
              "    </tr>\n",
              "  </thead>\n",
              "  <tbody>\n",
              "    <tr>\n",
              "      <th>150</th>\n",
              "      <td>151</td>\n",
              "      <td>0</td>\n",
              "      <td>2</td>\n",
              "      <td>Bateman, Rev. Robert James</td>\n",
              "      <td>male</td>\n",
              "      <td>51.0</td>\n",
              "      <td>0</td>\n",
              "      <td>0</td>\n",
              "      <td>S.O.P. 1166</td>\n",
              "      <td>12.525</td>\n",
              "      <td>NaN</td>\n",
              "      <td>S</td>\n",
              "    </tr>\n",
              "    <tr>\n",
              "      <th>694</th>\n",
              "      <td>695</td>\n",
              "      <td>0</td>\n",
              "      <td>1</td>\n",
              "      <td>Weir, Col. John</td>\n",
              "      <td>male</td>\n",
              "      <td>60.0</td>\n",
              "      <td>0</td>\n",
              "      <td>0</td>\n",
              "      <td>113800</td>\n",
              "      <td>26.550</td>\n",
              "      <td>NaN</td>\n",
              "      <td>S</td>\n",
              "    </tr>\n",
              "    <tr>\n",
              "      <th>181</th>\n",
              "      <td>182</td>\n",
              "      <td>0</td>\n",
              "      <td>2</td>\n",
              "      <td>Pernot, Mr. Rene</td>\n",
              "      <td>male</td>\n",
              "      <td>NaN</td>\n",
              "      <td>0</td>\n",
              "      <td>0</td>\n",
              "      <td>SC/PARIS 2131</td>\n",
              "      <td>15.050</td>\n",
              "      <td>NaN</td>\n",
              "      <td>C</td>\n",
              "    </tr>\n",
              "    <tr>\n",
              "      <th>551</th>\n",
              "      <td>552</td>\n",
              "      <td>0</td>\n",
              "      <td>2</td>\n",
              "      <td>Sharp, Mr. Percival James R</td>\n",
              "      <td>male</td>\n",
              "      <td>27.0</td>\n",
              "      <td>0</td>\n",
              "      <td>0</td>\n",
              "      <td>244358</td>\n",
              "      <td>26.000</td>\n",
              "      <td>NaN</td>\n",
              "      <td>S</td>\n",
              "    </tr>\n",
              "    <tr>\n",
              "      <th>253</th>\n",
              "      <td>254</td>\n",
              "      <td>0</td>\n",
              "      <td>3</td>\n",
              "      <td>Lobb, Mr. William Arthur</td>\n",
              "      <td>male</td>\n",
              "      <td>30.0</td>\n",
              "      <td>1</td>\n",
              "      <td>0</td>\n",
              "      <td>A/5. 3336</td>\n",
              "      <td>16.100</td>\n",
              "      <td>NaN</td>\n",
              "      <td>S</td>\n",
              "    </tr>\n",
              "  </tbody>\n",
              "</table>\n",
              "</div>"
            ],
            "text/plain": [
              "     PassengerId  Survived  Pclass                         Name   Sex   Age  \\\n",
              "150          151         0       2   Bateman, Rev. Robert James  male  51.0   \n",
              "694          695         0       1              Weir, Col. John  male  60.0   \n",
              "181          182         0       2             Pernot, Mr. Rene  male   NaN   \n",
              "551          552         0       2  Sharp, Mr. Percival James R  male  27.0   \n",
              "253          254         0       3     Lobb, Mr. William Arthur  male  30.0   \n",
              "\n",
              "     SibSp  Parch         Ticket    Fare Cabin Embarked  \n",
              "150      0      0    S.O.P. 1166  12.525   NaN        S  \n",
              "694      0      0         113800  26.550   NaN        S  \n",
              "181      0      0  SC/PARIS 2131  15.050   NaN        C  \n",
              "551      0      0         244358  26.000   NaN        S  \n",
              "253      1      0      A/5. 3336  16.100   NaN        S  "
            ]
          },
          "execution_count": 158,
          "metadata": {},
          "output_type": "execute_result"
        }
      ],
      "source": [
        "train_df.sample(5).head()"
      ]
    },
    {
      "cell_type": "code",
      "execution_count": 159,
      "metadata": {
        "_kg_hide-input": true,
        "_uuid": "ec12616d56dfbf5a6d40d5c1f692321e7260e461",
        "colab": {
          "base_uri": "https://localhost:8080/",
          "height": 250
        },
        "id": "nLcNQuK3lbAt",
        "outputId": "47e93a61-70a7-4be8-9538-02bee4f5ec23",
        "trusted": true
      },
      "outputs": [
        {
          "data": {
            "text/html": [
              "<div>\n",
              "<style scoped>\n",
              "    .dataframe tbody tr th:only-of-type {\n",
              "        vertical-align: middle;\n",
              "    }\n",
              "\n",
              "    .dataframe tbody tr th {\n",
              "        vertical-align: top;\n",
              "    }\n",
              "\n",
              "    .dataframe thead th {\n",
              "        text-align: right;\n",
              "    }\n",
              "</style>\n",
              "<table border=\"1\" class=\"dataframe\">\n",
              "  <thead>\n",
              "    <tr style=\"text-align: right;\">\n",
              "      <th></th>\n",
              "      <th>PassengerId</th>\n",
              "      <th>Pclass</th>\n",
              "      <th>Name</th>\n",
              "      <th>Sex</th>\n",
              "      <th>Age</th>\n",
              "      <th>SibSp</th>\n",
              "      <th>Parch</th>\n",
              "      <th>Ticket</th>\n",
              "      <th>Fare</th>\n",
              "      <th>Cabin</th>\n",
              "      <th>Embarked</th>\n",
              "    </tr>\n",
              "  </thead>\n",
              "  <tbody>\n",
              "    <tr>\n",
              "      <th>170</th>\n",
              "      <td>1062</td>\n",
              "      <td>3</td>\n",
              "      <td>Lithman, Mr. Simon</td>\n",
              "      <td>male</td>\n",
              "      <td>NaN</td>\n",
              "      <td>0</td>\n",
              "      <td>0</td>\n",
              "      <td>S.O./P.P. 251</td>\n",
              "      <td>7.5500</td>\n",
              "      <td>NaN</td>\n",
              "      <td>S</td>\n",
              "    </tr>\n",
              "    <tr>\n",
              "      <th>389</th>\n",
              "      <td>1281</td>\n",
              "      <td>3</td>\n",
              "      <td>Palsson, Master. Paul Folke</td>\n",
              "      <td>male</td>\n",
              "      <td>6.0</td>\n",
              "      <td>3</td>\n",
              "      <td>1</td>\n",
              "      <td>349909</td>\n",
              "      <td>21.0750</td>\n",
              "      <td>NaN</td>\n",
              "      <td>S</td>\n",
              "    </tr>\n",
              "    <tr>\n",
              "      <th>108</th>\n",
              "      <td>1000</td>\n",
              "      <td>3</td>\n",
              "      <td>Willer, Mr. Aaron (Abi Weller\")\"</td>\n",
              "      <td>male</td>\n",
              "      <td>NaN</td>\n",
              "      <td>0</td>\n",
              "      <td>0</td>\n",
              "      <td>3410</td>\n",
              "      <td>8.7125</td>\n",
              "      <td>NaN</td>\n",
              "      <td>S</td>\n",
              "    </tr>\n",
              "    <tr>\n",
              "      <th>368</th>\n",
              "      <td>1260</td>\n",
              "      <td>1</td>\n",
              "      <td>Gibson, Mrs. Leonard (Pauline C Boeson)</td>\n",
              "      <td>female</td>\n",
              "      <td>45.0</td>\n",
              "      <td>0</td>\n",
              "      <td>1</td>\n",
              "      <td>112378</td>\n",
              "      <td>59.4000</td>\n",
              "      <td>NaN</td>\n",
              "      <td>C</td>\n",
              "    </tr>\n",
              "    <tr>\n",
              "      <th>304</th>\n",
              "      <td>1196</td>\n",
              "      <td>3</td>\n",
              "      <td>McCarthy, Miss. Catherine Katie\"\"</td>\n",
              "      <td>female</td>\n",
              "      <td>NaN</td>\n",
              "      <td>0</td>\n",
              "      <td>0</td>\n",
              "      <td>383123</td>\n",
              "      <td>7.7500</td>\n",
              "      <td>NaN</td>\n",
              "      <td>Q</td>\n",
              "    </tr>\n",
              "  </tbody>\n",
              "</table>\n",
              "</div>"
            ],
            "text/plain": [
              "     PassengerId  Pclass                                     Name     Sex  \\\n",
              "170         1062       3                       Lithman, Mr. Simon    male   \n",
              "389         1281       3              Palsson, Master. Paul Folke    male   \n",
              "108         1000       3         Willer, Mr. Aaron (Abi Weller\")\"    male   \n",
              "368         1260       1  Gibson, Mrs. Leonard (Pauline C Boeson)  female   \n",
              "304         1196       3        McCarthy, Miss. Catherine Katie\"\"  female   \n",
              "\n",
              "      Age  SibSp  Parch         Ticket     Fare Cabin Embarked  \n",
              "170   NaN      0      0  S.O./P.P. 251   7.5500   NaN        S  \n",
              "389   6.0      3      1         349909  21.0750   NaN        S  \n",
              "108   NaN      0      0           3410   8.7125   NaN        S  \n",
              "368  45.0      0      1         112378  59.4000   NaN        C  \n",
              "304   NaN      0      0         383123   7.7500   NaN        Q  "
            ]
          },
          "execution_count": 159,
          "metadata": {},
          "output_type": "execute_result"
        }
      ],
      "source": [
        "test_df.sample(5).head()"
      ]
    },
    {
      "cell_type": "code",
      "execution_count": 160,
      "metadata": {
        "_kg_hide-input": true,
        "_uuid": "0f3a03fce399eaeb0226728af285486d6f22abcd",
        "colab": {
          "base_uri": "https://localhost:8080/"
        },
        "id": "3ZR8jCBYlbAt",
        "outputId": "5ab1911b-ada3-4db1-94d7-b6da304c9c10",
        "trusted": true
      },
      "outputs": [
        {
          "name": "stdout",
          "output_type": "stream",
          "text": [
            "Train: rows:891 cols:12\n",
            "Test:  rows:418 cols:11\n"
          ]
        }
      ],
      "source": [
        "print(\"Train: rows:{} cols:{}\".format(train_df.shape[0], train_df.shape[1]))\n",
        "print(\"Test:  rows:{} cols:{}\".format(test_df.shape[0], test_df.shape[1]))"
      ]
    },
    {
      "cell_type": "markdown",
      "metadata": {
        "_uuid": "ccf999716af89faf72b86be24e800f41e38e48ec",
        "id": "RY47DxI3lbAu"
      },
      "source": [
        "Both **train** and **test** files contains the following values:  \n",
        "\n",
        "* **PassengerID** - the index of the passenger (in the dataset);  \n",
        "* **PClass** - the class of the passenger (from 1 to 3);\n",
        "* **Name** - the name of the passenger;\n",
        "* **Sex** - the sex of the passenger (female or male);  \n",
        "* **Age** - the age (where available) of the passenger;  \n",
        "* **SibSp** - the number of sibilings / spouses aboard of Titanic;  \n",
        "* **Parch** - the number of parents / children aboard of Titanic;  \n",
        "* **Ticket** - the ticket number;  \n",
        "* **Fare** - the passenger fare (ticket cost);  \n",
        "* **Cabin** - the cabin number;  \n",
        "* **Embarked** - the place of embarcation of the passenger (C = Cherbourg, Q = Queenstown, S = Southampton).  \n",
        "\n",
        "The **train** data has as well the target value, **Survived**.\n",
        "\n",
        "It is important to have a good understanding of the data before going to create a model. Therefore we will explore the features."
      ]
    },
    {
      "cell_type": "markdown",
      "metadata": {
        "_uuid": "0b743ae9ca2a88bce058759520878a2a0a76688a",
        "id": "wzx3q4XnlbAu"
      },
      "source": [
        "Let's start by checking if there are missing data and unlabeled data.\n",
        "\n",
        "Next, analyze the dependencies of the target variable on various features, such as Age, Sex, and so on, using approaches similar to those in the first homework.\n",
        "\n",
        "Draw conclusions about what affects whether the passenger survives, check the distribution of features in the train and test data. "
      ]
    },
    {
      "cell_type": "code",
      "execution_count": 161,
      "metadata": {
        "id": "ZCXEtfrz1KBh"
      },
      "outputs": [
        {
          "data": {
            "text/plain": [
              "PassengerId      0\n",
              "Survived         0\n",
              "Pclass           0\n",
              "Name             0\n",
              "Sex              0\n",
              "Age            177\n",
              "SibSp            0\n",
              "Parch            0\n",
              "Ticket           0\n",
              "Fare             0\n",
              "Cabin          687\n",
              "Embarked         2\n",
              "dtype: int64"
            ]
          },
          "execution_count": 161,
          "metadata": {},
          "output_type": "execute_result"
        }
      ],
      "source": [
        "train_df.isnull().sum()"
      ]
    },
    {
      "cell_type": "markdown",
      "metadata": {},
      "source": [
        "We have Age, Cabin, Embarked where we have missing values"
      ]
    },
    {
      "cell_type": "code",
      "execution_count": 162,
      "metadata": {},
      "outputs": [
        {
          "data": {
            "text/plain": [
              "PassengerId      0\n",
              "Pclass           0\n",
              "Name             0\n",
              "Sex              0\n",
              "Age             86\n",
              "SibSp            0\n",
              "Parch            0\n",
              "Ticket           0\n",
              "Fare             1\n",
              "Cabin          327\n",
              "Embarked         0\n",
              "dtype: int64"
            ]
          },
          "execution_count": 162,
          "metadata": {},
          "output_type": "execute_result"
        }
      ],
      "source": [
        "test_df.isnull().sum()"
      ]
    },
    {
      "cell_type": "markdown",
      "metadata": {},
      "source": [
        "We have missing values in test_df: Age, cabin, fare"
      ]
    },
    {
      "cell_type": "code",
      "execution_count": 163,
      "metadata": {},
      "outputs": [
        {
          "data": {
            "text/html": [
              "<div>\n",
              "<style scoped>\n",
              "    .dataframe tbody tr th:only-of-type {\n",
              "        vertical-align: middle;\n",
              "    }\n",
              "\n",
              "    .dataframe tbody tr th {\n",
              "        vertical-align: top;\n",
              "    }\n",
              "\n",
              "    .dataframe thead th {\n",
              "        text-align: right;\n",
              "    }\n",
              "</style>\n",
              "<table border=\"1\" class=\"dataframe\">\n",
              "  <thead>\n",
              "    <tr style=\"text-align: right;\">\n",
              "      <th></th>\n",
              "      <th>Sex</th>\n",
              "      <th>count</th>\n",
              "      <th>percentage</th>\n",
              "    </tr>\n",
              "  </thead>\n",
              "  <tbody>\n",
              "    <tr>\n",
              "      <th>0</th>\n",
              "      <td>male</td>\n",
              "      <td>577</td>\n",
              "      <td>64.758698</td>\n",
              "    </tr>\n",
              "    <tr>\n",
              "      <th>1</th>\n",
              "      <td>female</td>\n",
              "      <td>314</td>\n",
              "      <td>35.241302</td>\n",
              "    </tr>\n",
              "  </tbody>\n",
              "</table>\n",
              "</div>"
            ],
            "text/plain": [
              "      Sex  count  percentage\n",
              "0    male    577   64.758698\n",
              "1  female    314   35.241302"
            ]
          },
          "execution_count": 163,
          "metadata": {},
          "output_type": "execute_result"
        },
        {
          "data": {
            "image/png": "[encoded data removed]",
            "text/plain": [
              "<Figure size 640x480 with 1 Axes>"
            ]
          },
          "metadata": {},
          "output_type": "display_data"
        }
      ],
      "source": [
        "sex_dist = pd.DataFrame(train_df['Sex'].value_counts())\n",
        "sex_dist['percentage'] = sex_dist / len(train_df) * 100\n",
        "sex_dist.reset_index(inplace=True)\n",
        "sex_dist.plot(x = 'Sex', y = 'count', kind = 'bar')\n",
        "sex_dist"
      ]
    },
    {
      "cell_type": "code",
      "execution_count": 164,
      "metadata": {},
      "outputs": [
        {
          "data": {
            "text/html": [
              "<div>\n",
              "<style scoped>\n",
              "    .dataframe tbody tr th:only-of-type {\n",
              "        vertical-align: middle;\n",
              "    }\n",
              "\n",
              "    .dataframe tbody tr th {\n",
              "        vertical-align: top;\n",
              "    }\n",
              "\n",
              "    .dataframe thead th {\n",
              "        text-align: right;\n",
              "    }\n",
              "</style>\n",
              "<table border=\"1\" class=\"dataframe\">\n",
              "  <thead>\n",
              "    <tr style=\"text-align: right;\">\n",
              "      <th></th>\n",
              "      <th>Sex</th>\n",
              "      <th>Survived</th>\n",
              "      <th>count</th>\n",
              "    </tr>\n",
              "  </thead>\n",
              "  <tbody>\n",
              "    <tr>\n",
              "      <th>0</th>\n",
              "      <td>female</td>\n",
              "      <td>1</td>\n",
              "      <td>233</td>\n",
              "    </tr>\n",
              "    <tr>\n",
              "      <th>1</th>\n",
              "      <td>female</td>\n",
              "      <td>0</td>\n",
              "      <td>81</td>\n",
              "    </tr>\n",
              "    <tr>\n",
              "      <th>2</th>\n",
              "      <td>male</td>\n",
              "      <td>0</td>\n",
              "      <td>468</td>\n",
              "    </tr>\n",
              "    <tr>\n",
              "      <th>3</th>\n",
              "      <td>male</td>\n",
              "      <td>1</td>\n",
              "      <td>109</td>\n",
              "    </tr>\n",
              "  </tbody>\n",
              "</table>\n",
              "</div>"
            ],
            "text/plain": [
              "      Sex  Survived  count\n",
              "0  female         1    233\n",
              "1  female         0     81\n",
              "2    male         0    468\n",
              "3    male         1    109"
            ]
          },
          "execution_count": 164,
          "metadata": {},
          "output_type": "execute_result"
        }
      ],
      "source": [
        "s_sex = train_df.groupby('Sex', as_index=False)['Survived'].value_counts()\n",
        "s_sex"
      ]
    },
    {
      "cell_type": "code",
      "execution_count": 165,
      "metadata": {},
      "outputs": [
        {
          "name": "stdout",
          "output_type": "stream",
          "text": [
            "74.20% of female survived\n",
            "18.89% of male survived\n"
          ]
        }
      ],
      "source": [
        "female_percentage = ((s_sex[(s_sex['Sex'] == 'female') & (s_sex['Survived'] == 1)]['count']) / s_sex[s_sex['Sex'] == 'female']['count'].sum()).iloc[0] * 100\n",
        "male_percentage = ((s_sex[(s_sex['Sex'] == 'male') & (s_sex['Survived'] == 1)]['count']) / s_sex[s_sex['Sex'] == 'male']['count'].sum()).iloc[0] * 100\n",
        "print(f'{female_percentage:.2f}% of female survived')\n",
        "print(f'{male_percentage:.2f}% of male survived')"
      ]
    },
    {
      "cell_type": "code",
      "execution_count": 166,
      "metadata": {},
      "outputs": [
        {
          "data": {
            "text/plain": [
              "<BarContainer object of 2 artists>"
            ]
          },
          "execution_count": 166,
          "metadata": {},
          "output_type": "execute_result"
        },
        {
          "data": {
            "image/png": "[encoded data removed]",
            "text/plain": [
              "<Figure size 640x480 with 1 Axes>"
            ]
          },
          "metadata": {},
          "output_type": "display_data"
        }
      ],
      "source": [
        "data = {'Sex': ['female', 'male'],\n",
        "        'Survived': [female_percentage, male_percentage]}\n",
        "df_survival_percentage = pd.DataFrame(data)\n",
        "plt.bar(df_survival_percentage['Sex'], df_survival_percentage['Survived'], color=['pink', 'blue'])"
      ]
    },
    {
      "cell_type": "code",
      "execution_count": 167,
      "metadata": {},
      "outputs": [
        {
          "data": {
            "text/html": [
              "<div>\n",
              "<style scoped>\n",
              "    .dataframe tbody tr th:only-of-type {\n",
              "        vertical-align: middle;\n",
              "    }\n",
              "\n",
              "    .dataframe tbody tr th {\n",
              "        vertical-align: top;\n",
              "    }\n",
              "\n",
              "    .dataframe thead th {\n",
              "        text-align: right;\n",
              "    }\n",
              "</style>\n",
              "<table border=\"1\" class=\"dataframe\">\n",
              "  <thead>\n",
              "    <tr style=\"text-align: right;\">\n",
              "      <th></th>\n",
              "      <th>Pclass</th>\n",
              "      <th>count</th>\n",
              "      <th>percentage</th>\n",
              "    </tr>\n",
              "  </thead>\n",
              "  <tbody>\n",
              "    <tr>\n",
              "      <th>0</th>\n",
              "      <td>3</td>\n",
              "      <td>491</td>\n",
              "      <td>55.106622</td>\n",
              "    </tr>\n",
              "    <tr>\n",
              "      <th>1</th>\n",
              "      <td>1</td>\n",
              "      <td>216</td>\n",
              "      <td>24.242424</td>\n",
              "    </tr>\n",
              "    <tr>\n",
              "      <th>2</th>\n",
              "      <td>2</td>\n",
              "      <td>184</td>\n",
              "      <td>20.650954</td>\n",
              "    </tr>\n",
              "  </tbody>\n",
              "</table>\n",
              "</div>"
            ],
            "text/plain": [
              "   Pclass  count  percentage\n",
              "0       3    491   55.106622\n",
              "1       1    216   24.242424\n",
              "2       2    184   20.650954"
            ]
          },
          "execution_count": 167,
          "metadata": {},
          "output_type": "execute_result"
        },
        {
          "data": {
            "image/png": "[encoded data removed]",
            "text/plain": [
              "<Figure size 640x480 with 1 Axes>"
            ]
          },
          "metadata": {},
          "output_type": "display_data"
        }
      ],
      "source": [
        "pclass_dist = pd.DataFrame(train_df['Pclass'].value_counts())\n",
        "pclass_dist['percentage'] = pclass_dist / len(train_df) * 100\n",
        "pclass_dist.reset_index(inplace=True)\n",
        "pclass_dist.plot(x = 'Pclass', y = 'count', kind = 'bar')\n",
        "pclass_dist"
      ]
    },
    {
      "cell_type": "code",
      "execution_count": 168,
      "metadata": {},
      "outputs": [
        {
          "data": {
            "text/html": [
              "<div>\n",
              "<style scoped>\n",
              "    .dataframe tbody tr th:only-of-type {\n",
              "        vertical-align: middle;\n",
              "    }\n",
              "\n",
              "    .dataframe tbody tr th {\n",
              "        vertical-align: top;\n",
              "    }\n",
              "\n",
              "    .dataframe thead th {\n",
              "        text-align: right;\n",
              "    }\n",
              "</style>\n",
              "<table border=\"1\" class=\"dataframe\">\n",
              "  <thead>\n",
              "    <tr style=\"text-align: right;\">\n",
              "      <th></th>\n",
              "      <th>Pclass</th>\n",
              "      <th>Survived</th>\n",
              "      <th>count</th>\n",
              "    </tr>\n",
              "  </thead>\n",
              "  <tbody>\n",
              "    <tr>\n",
              "      <th>0</th>\n",
              "      <td>1</td>\n",
              "      <td>1</td>\n",
              "      <td>136</td>\n",
              "    </tr>\n",
              "    <tr>\n",
              "      <th>1</th>\n",
              "      <td>1</td>\n",
              "      <td>0</td>\n",
              "      <td>80</td>\n",
              "    </tr>\n",
              "    <tr>\n",
              "      <th>2</th>\n",
              "      <td>2</td>\n",
              "      <td>0</td>\n",
              "      <td>97</td>\n",
              "    </tr>\n",
              "    <tr>\n",
              "      <th>3</th>\n",
              "      <td>2</td>\n",
              "      <td>1</td>\n",
              "      <td>87</td>\n",
              "    </tr>\n",
              "    <tr>\n",
              "      <th>4</th>\n",
              "      <td>3</td>\n",
              "      <td>0</td>\n",
              "      <td>372</td>\n",
              "    </tr>\n",
              "    <tr>\n",
              "      <th>5</th>\n",
              "      <td>3</td>\n",
              "      <td>1</td>\n",
              "      <td>119</td>\n",
              "    </tr>\n",
              "  </tbody>\n",
              "</table>\n",
              "</div>"
            ],
            "text/plain": [
              "   Pclass  Survived  count\n",
              "0       1         1    136\n",
              "1       1         0     80\n",
              "2       2         0     97\n",
              "3       2         1     87\n",
              "4       3         0    372\n",
              "5       3         1    119"
            ]
          },
          "execution_count": 168,
          "metadata": {},
          "output_type": "execute_result"
        }
      ],
      "source": [
        "s_pclass = train_df.groupby('Pclass', as_index=False)['Survived'].value_counts()\n",
        "s_pclass"
      ]
    },
    {
      "cell_type": "code",
      "execution_count": 169,
      "metadata": {},
      "outputs": [
        {
          "name": "stdout",
          "output_type": "stream",
          "text": [
            "62.96% of first class passengers survived\n",
            "47.28% of second class passengers survived\n",
            "24.24% of third class passengers survived\n"
          ]
        }
      ],
      "source": [
        "pclass_1 = ((s_pclass[(s_pclass['Pclass'] == 1) & (s_pclass['Survived'] == 1)]['count']) /s_pclass[(s_pclass['Pclass'] == 1)]['count'].sum()).iloc[0] * 100\n",
        "pclass_2 = ((s_pclass[(s_pclass['Pclass'] == 2) & (s_pclass['Survived'] == 1)]['count'])/s_pclass[(s_pclass['Pclass'] == 2)]['count'].sum()).iloc[0] * 100\n",
        "pclass_3 = ((s_pclass[(s_pclass['Pclass'] == 3) & (s_pclass['Survived'] == 1)]['count'])/s_pclass[(s_pclass['Pclass'] == 3)]['count'].sum()).iloc[0] * 100\n",
        "print(f'{pclass_1:.2f}% of first class passengers survived')\n",
        "print(f'{pclass_2:.2f}% of second class passengers survived')\n",
        "print(f'{pclass_3:.2f}% of third class passengers survived')"
      ]
    },
    {
      "cell_type": "code",
      "execution_count": 170,
      "metadata": {},
      "outputs": [
        {
          "data": {
            "text/plain": [
              "<BarContainer object of 3 artists>"
            ]
          },
          "execution_count": 170,
          "metadata": {},
          "output_type": "execute_result"
        },
        {
          "data": {
            "image/png": "[encoded data removed]",
            "text/plain": [
              "<Figure size 640x480 with 1 Axes>"
            ]
          },
          "metadata": {},
          "output_type": "display_data"
        }
      ],
      "source": [
        "data_pclass = {'Pclass': ['First', 'Second', 'Third'],\n",
        "        'Survived%': [pclass_1, pclass_2, pclass_3]}\n",
        "df_survival_percentage_pclass = pd.DataFrame(data_pclass)\n",
        "\n",
        "# Create a bar chart\n",
        "plt.bar(df_survival_percentage_pclass['Pclass'], df_survival_percentage_pclass['Survived%'], color=['blue', 'green', 'yellow'])"
      ]
    },
    {
      "cell_type": "code",
      "execution_count": 171,
      "metadata": {},
      "outputs": [
        {
          "data": {
            "image/png": "[encoded data removed]",
            "text/plain": [
              "<Figure size 1200x600 with 1 Axes>"
            ]
          },
          "metadata": {},
          "output_type": "display_data"
        }
      ],
      "source": [
        "age_survived = train_df.groupby(['Age', 'Survived']).size().unstack()\n",
        "\n",
        "ax = age_survived.plot(kind='bar', stacked=True, color=['red', 'green'], figsize=(12, 6))"
      ]
    },
    {
      "cell_type": "code",
      "execution_count": 172,
      "metadata": {},
      "outputs": [
        {
          "data": {
            "text/html": [
              "<div>\n",
              "<style scoped>\n",
              "    .dataframe tbody tr th:only-of-type {\n",
              "        vertical-align: middle;\n",
              "    }\n",
              "\n",
              "    .dataframe tbody tr th {\n",
              "        vertical-align: top;\n",
              "    }\n",
              "\n",
              "    .dataframe thead th {\n",
              "        text-align: right;\n",
              "    }\n",
              "</style>\n",
              "<table border=\"1\" class=\"dataframe\">\n",
              "  <thead>\n",
              "    <tr style=\"text-align: right;\">\n",
              "      <th></th>\n",
              "      <th>Embarked</th>\n",
              "      <th>count</th>\n",
              "      <th>percentage</th>\n",
              "    </tr>\n",
              "  </thead>\n",
              "  <tbody>\n",
              "    <tr>\n",
              "      <th>0</th>\n",
              "      <td>S</td>\n",
              "      <td>644</td>\n",
              "      <td>72.278339</td>\n",
              "    </tr>\n",
              "    <tr>\n",
              "      <th>1</th>\n",
              "      <td>C</td>\n",
              "      <td>168</td>\n",
              "      <td>18.855219</td>\n",
              "    </tr>\n",
              "    <tr>\n",
              "      <th>2</th>\n",
              "      <td>Q</td>\n",
              "      <td>77</td>\n",
              "      <td>8.641975</td>\n",
              "    </tr>\n",
              "  </tbody>\n",
              "</table>\n",
              "</div>"
            ],
            "text/plain": [
              "  Embarked  count  percentage\n",
              "0        S    644   72.278339\n",
              "1        C    168   18.855219\n",
              "2        Q     77    8.641975"
            ]
          },
          "metadata": {},
          "output_type": "display_data"
        },
        {
          "data": {
            "text/plain": [
              "<Axes: xlabel='Embarked'>"
            ]
          },
          "execution_count": 172,
          "metadata": {},
          "output_type": "execute_result"
        },
        {
          "data": {
            "image/png": "[encoded data removed]",
            "text/plain": [
              "<Figure size 640x480 with 1 Axes>"
            ]
          },
          "metadata": {},
          "output_type": "display_data"
        }
      ],
      "source": [
        "embarked = pd.DataFrame(train_df['Embarked'].value_counts())\n",
        "embarked['percentage'] = embarked / len(train_df) * 100\n",
        "embarked.reset_index(inplace=True)\n",
        "display(embarked)\n",
        "embarked.plot(x = 'Embarked', y = 'count', kind='bar')"
      ]
    },
    {
      "cell_type": "code",
      "execution_count": 173,
      "metadata": {},
      "outputs": [
        {
          "data": {
            "text/html": [
              "<div>\n",
              "<style scoped>\n",
              "    .dataframe tbody tr th:only-of-type {\n",
              "        vertical-align: middle;\n",
              "    }\n",
              "\n",
              "    .dataframe tbody tr th {\n",
              "        vertical-align: top;\n",
              "    }\n",
              "\n",
              "    .dataframe thead th {\n",
              "        text-align: right;\n",
              "    }\n",
              "</style>\n",
              "<table border=\"1\" class=\"dataframe\">\n",
              "  <thead>\n",
              "    <tr style=\"text-align: right;\">\n",
              "      <th></th>\n",
              "      <th>Embarked</th>\n",
              "      <th>Survived</th>\n",
              "      <th>count</th>\n",
              "    </tr>\n",
              "  </thead>\n",
              "  <tbody>\n",
              "    <tr>\n",
              "      <th>0</th>\n",
              "      <td>C</td>\n",
              "      <td>1</td>\n",
              "      <td>93</td>\n",
              "    </tr>\n",
              "    <tr>\n",
              "      <th>1</th>\n",
              "      <td>C</td>\n",
              "      <td>0</td>\n",
              "      <td>75</td>\n",
              "    </tr>\n",
              "    <tr>\n",
              "      <th>2</th>\n",
              "      <td>Q</td>\n",
              "      <td>0</td>\n",
              "      <td>47</td>\n",
              "    </tr>\n",
              "    <tr>\n",
              "      <th>3</th>\n",
              "      <td>Q</td>\n",
              "      <td>1</td>\n",
              "      <td>30</td>\n",
              "    </tr>\n",
              "    <tr>\n",
              "      <th>4</th>\n",
              "      <td>S</td>\n",
              "      <td>0</td>\n",
              "      <td>427</td>\n",
              "    </tr>\n",
              "    <tr>\n",
              "      <th>5</th>\n",
              "      <td>S</td>\n",
              "      <td>1</td>\n",
              "      <td>217</td>\n",
              "    </tr>\n",
              "  </tbody>\n",
              "</table>\n",
              "</div>"
            ],
            "text/plain": [
              "  Embarked  Survived  count\n",
              "0        C         1     93\n",
              "1        C         0     75\n",
              "2        Q         0     47\n",
              "3        Q         1     30\n",
              "4        S         0    427\n",
              "5        S         1    217"
            ]
          },
          "execution_count": 173,
          "metadata": {},
          "output_type": "execute_result"
        }
      ],
      "source": [
        "s_embarked = train_df.groupby('Embarked', as_index=False)['Survived'].value_counts()\n",
        "s_embarked"
      ]
    },
    {
      "cell_type": "code",
      "execution_count": 174,
      "metadata": {},
      "outputs": [
        {
          "name": "stdout",
          "output_type": "stream",
          "text": [
            "55.36% of whose passengers who embarked in Cherbourg survived\n",
            "38.96% of whose passengers who embarked in Queenstown survived\n",
            "33.70% of whose passengers who embarked in Southampton survived\n"
          ]
        }
      ],
      "source": [
        "s_embarked_C = ((s_embarked[(s_embarked['Embarked'] == 'C') & (s_embarked['Survived'] == 1)]['count']) / s_embarked[(s_embarked['Embarked'] == 'C')]['count'].sum()).iloc[0] * 100\n",
        "s_embarked_Q = ((s_embarked[(s_embarked['Embarked'] == 'Q') & (s_embarked['Survived'] == 1)]['count']) / s_embarked[(s_embarked['Embarked'] == 'Q')]['count'].sum()).iloc[0] * 100\n",
        "s_embarked_S = ((s_embarked[(s_embarked['Embarked'] == 'S') & (s_embarked['Survived'] == 1)]['count']) / s_embarked[(s_embarked['Embarked'] == 'S')]['count'].sum()).iloc[0] * 100\n",
        "\n",
        "print(f'{s_embarked_C:.2f}% of whose passengers who embarked in Cherbourg survived')\n",
        "print(f'{s_embarked_Q:.2f}% of whose passengers who embarked in Queenstown survived')\n",
        "print(f'{s_embarked_S:.2f}% of whose passengers who embarked in Southampton survived')"
      ]
    },
    {
      "cell_type": "code",
      "execution_count": 175,
      "metadata": {},
      "outputs": [
        {
          "data": {
            "text/plain": [
              "<BarContainer object of 3 artists>"
            ]
          },
          "execution_count": 175,
          "metadata": {},
          "output_type": "execute_result"
        },
        {
          "data": {
            "image/png": "[encoded data removed]",
            "text/plain": [
              "<Figure size 640x480 with 1 Axes>"
            ]
          },
          "metadata": {},
          "output_type": "display_data"
        }
      ],
      "source": [
        "data_e = {'Embarked': ['C', 'Q', 'S'],\n",
        "        'Survived%': [s_embarked_C, s_embarked_Q, s_embarked_S]}\n",
        "df_survival_percentage_e = pd.DataFrame(data_e)\n",
        "\n",
        "plt.bar(df_survival_percentage_e['Embarked'], df_survival_percentage_pclass['Survived%'], color=['blue', 'green', 'yellow'])"
      ]
    },
    {
      "cell_type": "code",
      "execution_count": 176,
      "metadata": {},
      "outputs": [
        {
          "data": {
            "text/html": [
              "<div>\n",
              "<style scoped>\n",
              "    .dataframe tbody tr th:only-of-type {\n",
              "        vertical-align: middle;\n",
              "    }\n",
              "\n",
              "    .dataframe tbody tr th {\n",
              "        vertical-align: top;\n",
              "    }\n",
              "\n",
              "    .dataframe thead th {\n",
              "        text-align: right;\n",
              "    }\n",
              "</style>\n",
              "<table border=\"1\" class=\"dataframe\">\n",
              "  <thead>\n",
              "    <tr style=\"text-align: right;\">\n",
              "      <th></th>\n",
              "      <th>Survived</th>\n",
              "      <th>0</th>\n",
              "      <th>1</th>\n",
              "    </tr>\n",
              "    <tr>\n",
              "      <th>Sex</th>\n",
              "      <th>Pclass</th>\n",
              "      <th></th>\n",
              "      <th></th>\n",
              "    </tr>\n",
              "  </thead>\n",
              "  <tbody>\n",
              "    <tr>\n",
              "      <th rowspan=\"3\" valign=\"top\">female</th>\n",
              "      <th>1</th>\n",
              "      <td>0.031915</td>\n",
              "      <td>0.968085</td>\n",
              "    </tr>\n",
              "    <tr>\n",
              "      <th>2</th>\n",
              "      <td>0.078947</td>\n",
              "      <td>0.921053</td>\n",
              "    </tr>\n",
              "    <tr>\n",
              "      <th>3</th>\n",
              "      <td>0.500000</td>\n",
              "      <td>0.500000</td>\n",
              "    </tr>\n",
              "    <tr>\n",
              "      <th rowspan=\"3\" valign=\"top\">male</th>\n",
              "      <th>1</th>\n",
              "      <td>0.631148</td>\n",
              "      <td>0.368852</td>\n",
              "    </tr>\n",
              "    <tr>\n",
              "      <th>2</th>\n",
              "      <td>0.842593</td>\n",
              "      <td>0.157407</td>\n",
              "    </tr>\n",
              "    <tr>\n",
              "      <th>3</th>\n",
              "      <td>0.864553</td>\n",
              "      <td>0.135447</td>\n",
              "    </tr>\n",
              "  </tbody>\n",
              "</table>\n",
              "</div>"
            ],
            "text/plain": [
              "Survived              0         1\n",
              "Sex    Pclass                    \n",
              "female 1       0.031915  0.968085\n",
              "       2       0.078947  0.921053\n",
              "       3       0.500000  0.500000\n",
              "male   1       0.631148  0.368852\n",
              "       2       0.842593  0.157407\n",
              "       3       0.864553  0.135447"
            ]
          },
          "execution_count": 176,
          "metadata": {},
          "output_type": "execute_result"
        }
      ],
      "source": [
        "total_passengers = train_df.shape[0]\n",
        "survival_percentage = train_df.groupby(['Sex', 'Pclass', 'Survived']).size().unstack()\n",
        "percentage_distribution = survival_percentage.div(survival_percentage.sum(axis=1), axis=0)\n",
        "percentage_distribution"
      ]
    },
    {
      "cell_type": "markdown",
      "metadata": {
        "_uuid": "410a8017f065abc6ca809debe6d6314e29d9ec46",
        "id": "LWXUggWPlbAw"
      },
      "source": [
        "In total, on the Titanic, if we take the division by gender, there were 577 men and 314 women on board. That makes it 64 percent male and 36 percent female. Of which 74 percent of women survived, and in turn men survived only 18 percent. So gender will strongly influence the probability of survival.\n",
        "If we look at Pclass, the most people were in class 3, then class 1, and then class 2. If you take it by percentage of survival, the largest percentage was in Pclass 2 with 62 percent survivors. The second class had 47 percent survivors, and the third class had 24 percent survivors."
      ]
    },
    {
      "cell_type": "markdown",
      "metadata": {},
      "source": [
        "In terms of age, the largest number of people tend to be in the average age range of 25-35 years. They also have the highest mortality rates as a percentage of the population"
      ]
    },
    {
      "cell_type": "markdown",
      "metadata": {},
      "source": [
        "Looking at Embarked, Southampton had the highest number of people landed, however Cherbourg had the highest survival rate at 55, the other landing sites between 30 and 38% survived"
      ]
    },
    {
      "cell_type": "markdown",
      "metadata": {},
      "source": [
        "Thus it can be seen from the summary table that women survived with 90 percent probability in the first and second classes, and in the third class the situation is 50/50. Men, in turn, survived in very small percentages in all classes, but the highest survival rate in the first class was 36 percent."
      ]
    },
    {
      "cell_type": "markdown",
      "metadata": {},
      "source": [
        "Thus for analysis we can take: Sex, Age, Pclass, Embarked"
      ]
    },
    {
      "cell_type": "markdown",
      "metadata": {
        "_uuid": "674450c7d711046ece6889cbe2923d4b2217e0ea",
        "id": "ptAx8aEclbA8"
      },
      "source": [
        "\n",
        "## <a id='50'>Split the data</a>  \n",
        "\n",
        "Let's split the training and validation set. We will use a 80-20 split. Don't forget to fix random_state. \n"
      ]
    },
    {
      "cell_type": "markdown",
      "metadata": {},
      "source": [
        "#### Data preprocessing"
      ]
    },
    {
      "cell_type": "code",
      "execution_count": 178,
      "metadata": {},
      "outputs": [],
      "source": [
        "from sklearn.preprocessing import LabelEncoder\n",
        "from sklearn.preprocessing import OneHotEncoder\n",
        "le = LabelEncoder()\n",
        "ohe = OneHotEncoder()\n",
        "train_df[\"Sex\"]= le.fit_transform(train_df[\"Sex\"])\n",
        "train_df['Embarked'] =train_df['Embarked'].fillna('S') \n",
        "train_df['Embarked']= le.fit_transform(train_df['Embarked'])\n",
        "train_df['Age'] = train_df['Age'].fillna(train_df['Age'].median())\n",
        "train_df = train_df.drop(columns=['PassengerId', 'Name', 'Ticket', 'Cabin'])"
      ]
    },
    {
      "cell_type": "markdown",
      "metadata": {},
      "source": [
        "In this step, we fill in missing variables in age with the median value, and fill in missing values in Embarked with S - Southampton"
      ]
    },
    {
      "cell_type": "markdown",
      "metadata": {},
      "source": [
        "We use LabelEncoder to encode the categorical variables gender and Embarked because we generally don't care about ordinality, and we have a small number of subcategories within a category"
      ]
    },
    {
      "cell_type": "code",
      "execution_count": 179,
      "metadata": {},
      "outputs": [
        {
          "data": {
            "text/plain": [
              "Embarked\n",
              "2    646\n",
              "0    168\n",
              "1     77\n",
              "Name: count, dtype: int64"
            ]
          },
          "execution_count": 179,
          "metadata": {},
          "output_type": "execute_result"
        }
      ],
      "source": [
        "train_df['Embarked'].value_counts()"
      ]
    },
    {
      "cell_type": "code",
      "execution_count": 180,
      "metadata": {
        "_kg_hide-input": true,
        "_uuid": "b4bbf9a7175f4bf24bc39192037768cf5926d04a",
        "id": "_3XnQw6BlbA8",
        "trusted": true
      },
      "outputs": [
        {
          "name": "stdout",
          "output_type": "stream",
          "text": [
            "(712, 8) (179, 8)\n"
          ]
        }
      ],
      "source": [
        "#your code is here\n",
        "train, validation = train_test_split(train_df, random_state=42, test_size=0.2)\n",
        "print(train.shape, validation.shape)"
      ]
    },
    {
      "cell_type": "markdown",
      "metadata": {
        "_uuid": "87f2054b07681134ab6ce19d46f955fe5217a6d5",
        "id": "czTvS_cClbA8"
      },
      "source": [
        "\n",
        "## <a id='51'>Build a model</a>  "
      ]
    },
    {
      "cell_type": "markdown",
      "metadata": {
        "_uuid": "13d69dc08c0c8efdc4ae890ada0cd0b17f535125",
        "id": "dnGTphxclbA8"
      },
      "source": [
        "We will start with a simple model (baseline), with just two features, the `Sex` and `Pclass`. Create DesicionTreeClassifier and RandomForestClassifier, based on this features, without tuning parameters. \n",
        "\n",
        "Next, create two more complicated models: DesicionTreeClassifier and RandomForestClassifier with adding at least one feature you found useful as a result of your analysis.\n",
        "\n",
        "Find accuracy score for all models. Is it a good idea to use accuracy? Any suggestions about metrics? \n",
        "\n",
        "Then try to tune at least one parameter for every model using grid search and write down features and parameters, which gave you best score. "
      ]
    },
    {
      "cell_type": "code",
      "execution_count": 198,
      "metadata": {},
      "outputs": [],
      "source": [
        "from sklearn.metrics import accuracy_score\n",
        "def accuracy_test(clf, y_train, X_train, y_test, X_test):\n",
        "    y_train_predict = clf.predict(X_train)\n",
        "    y_pred = clf.predict(X_test)\n",
        "    accuracy_train = accuracy_score(y_train, y_train_predict)\n",
        "    accuracy_tst = accuracy_score(y_test, y_pred) \n",
        "    print(f'{clf} shows {accuracy_train:.4f} on train sample')\n",
        "    print(f'{clf} shows {accuracy_tst:.4f} on test sample')"
      ]
    },
    {
      "cell_type": "markdown",
      "metadata": {},
      "source": [
        "#### DecisionTree simple model"
      ]
    },
    {
      "cell_type": "code",
      "execution_count": 199,
      "metadata": {
        "id": "jMSkNGtXzg-B"
      },
      "outputs": [
        {
          "name": "stdout",
          "output_type": "stream",
          "text": [
            "DecisionTreeClassifier(random_state=42) shows 0.7921 on train sample\n",
            "DecisionTreeClassifier(random_state=42) shows 0.7654 on test sample\n"
          ]
        }
      ],
      "source": [
        "from sklearn.tree import DecisionTreeClassifier\n",
        "from sklearn.ensemble import RandomForestClassifier\n",
        "\n",
        "y = train['Survived']\n",
        "X = train[['Sex', 'Pclass']]\n",
        "\n",
        "clf_simple_decision_tree = DecisionTreeClassifier(random_state=42)\n",
        "\n",
        "clf_simple_decision_tree.fit(X, y)\n",
        "\n",
        "accuracy_test(clf = clf_simple_decision_tree, y_train=y, X_train=X, y_test=validation['Survived'], X_test=validation[['Sex', 'Pclass']])"
      ]
    },
    {
      "cell_type": "markdown",
      "metadata": {},
      "source": [
        "#### Random forest simple model"
      ]
    },
    {
      "cell_type": "code",
      "execution_count": 200,
      "metadata": {},
      "outputs": [
        {
          "name": "stdout",
          "output_type": "stream",
          "text": [
            "RandomForestClassifier(random_state=42) shows 0.7921 on train sample\n",
            "RandomForestClassifier(random_state=42) shows 0.7654 on test sample\n"
          ]
        }
      ],
      "source": [
        "clf_random_forest_simple = RandomForestClassifier(random_state=42)\n",
        "\n",
        "clf_random_forest_simple.fit(X, y)\n",
        "\n",
        "accuracy_test(clf = clf_random_forest_simple, y_train=y, X_train=X, y_test=validation['Survived'], X_test=validation[['Sex', 'Pclass']])"
      ]
    },
    {
      "cell_type": "markdown",
      "metadata": {},
      "source": [
        "#### DecisionTree simple model with Age"
      ]
    },
    {
      "cell_type": "code",
      "execution_count": 203,
      "metadata": {},
      "outputs": [
        {
          "name": "stdout",
          "output_type": "stream",
          "text": [
            "DecisionTreeClassifier(random_state=42) shows 0.8750 on train sample\n",
            "DecisionTreeClassifier(random_state=42) shows 0.7765 on test sample\n"
          ]
        }
      ],
      "source": [
        "y = train['Survived']\n",
        "X = train[['Sex', 'Pclass', 'Age']]\n",
        "\n",
        "clf_decision_tree_age = DecisionTreeClassifier(random_state=42)\n",
        "\n",
        "clf_decision_tree_age.fit(X, y)\n",
        "\n",
        "accuracy_test(clf = clf_decision_tree_age, y_train=y, X_train=X, y_test=validation['Survived'], X_test=validation[['Sex', 'Pclass', 'Age']])"
      ]
    },
    {
      "cell_type": "markdown",
      "metadata": {},
      "source": [
        "#### Random forest simple model with age"
      ]
    },
    {
      "cell_type": "code",
      "execution_count": 206,
      "metadata": {},
      "outputs": [
        {
          "name": "stdout",
          "output_type": "stream",
          "text": [
            "RandomForestClassifier(random_state=42) shows 0.8750 on train sample\n",
            "RandomForestClassifier(random_state=42) shows 0.7933 on test sample\n"
          ]
        }
      ],
      "source": [
        "y = train['Survived']\n",
        "X = train[['Sex', 'Pclass', 'Age']]\n",
        "\n",
        "clf_random_forest_age = RandomForestClassifier(random_state=42)\n",
        "\n",
        "clf_random_forest_age.fit(X, y)\n",
        "\n",
        "accuracy_test(clf = clf_random_forest_age, y_train=y, X_train=X, y_test=validation['Survived'], X_test=validation[['Sex', 'Pclass', 'Age']])"
      ]
    },
    {
      "cell_type": "markdown",
      "metadata": {},
      "source": [
        "Make a function to do test quickly on test train samples"
      ]
    },
    {
      "cell_type": "code",
      "execution_count": 209,
      "metadata": {},
      "outputs": [],
      "source": [
        "from sklearn.metrics import precision_score, recall_score, f1_score, roc_auc_score\n",
        "\n",
        "def get_stats(clf, y_train, X_train, y_test, X_test):\n",
        "    y_train_predict = clf.predict(X_train)\n",
        "    y_pred = clf.predict(X_test)\n",
        "\n",
        "    accuracy_train = accuracy_score(y_train, y_train_predict)\n",
        "    accuracy_tst = accuracy_score(y_test, y_pred) \n",
        "    print(f'{clf} shows accuracy {accuracy_train:.4f} on train sample')\n",
        "    print(f'{clf} shows accuracy {accuracy_tst:.4f} on test sample')\n",
        "\n",
        "    precision_train = precision_score(y_train, y_train_predict)\n",
        "    precision_test = precision_score(y_test, y_pred)\n",
        "    print(f'{clf} shows precision {precision_train:.4f} on train sample')\n",
        "    print(f'{clf} shows precision {precision_test:.4f} on test sample')\n",
        "\n",
        "    recall_train = recall_score(y_train, y_train_predict)\n",
        "    recall_test = recall_score(y_test, y_pred) \n",
        "    print(f'{clf} shows recall {recall_train:.4f} on train sample')\n",
        "    print(f'{clf} shows recall {recall_test:.4f} on test sample')\n",
        "\n",
        "    f1_train = f1_score(y_train, y_train_predict)\n",
        "    f1_test = f1_score(y_test, y_pred)\n",
        "    print(f'{clf} shows f1 {f1_train:.4f} on train sample')\n",
        "    print(f'{clf} shows f1 {f1_test:.4f} on test sample')\n",
        "\n",
        "    roc_auc_train = roc_auc_score(y_train, y_train_predict)\n",
        "    roc_auc_test = roc_auc_score(y_test, y_pred)\n",
        "    print(f'{clf} shows roc-auc {roc_auc_train:.4f} on train sample')\n",
        "    print(f'{clf} shows roc-auc {roc_auc_test:.4f} on test sample')"
      ]
    },
    {
      "cell_type": "markdown",
      "metadata": {},
      "source": [
        "Accuracy does not take into account the type of errors (false positives and false negatives). Especially in tasks where errors have different consequences, such as in this task, where a person's life depends on the result."
      ]
    },
    {
      "cell_type": "markdown",
      "metadata": {},
      "source": [
        "In the case of class imbalance, the model can only predict the dominant class, and the accuracy will be high even though the model is not efficient. In our example, there are more men than women, and in general this can introduce imbalances into the model"
      ]
    },
    {
      "cell_type": "markdown",
      "metadata": {},
      "source": [
        "#### Precison\n",
        "\n",
        "Formula: Precision = TP / (TP + FP), where TP is true positives, FP is false positives. This is important when the cost of false positives is high.\n",
        "\n",
        "#### Recall\n",
        "Formula: Recall = TP / (TP + FN), where TP is true positives and FN is false negatives. This is important when the cost of false negatives is high.\n",
        "\n",
        "#### F1-score\n",
        "Formula: F1 Score = 2 * (Precision * Recall) / (Precision + Recall). This metric is useful when both accuracy and completeness are important."
      ]
    },
    {
      "cell_type": "markdown",
      "metadata": {},
      "source": [
        "In our model, recall should be improved because in general the model should not show many False Negative results, so it is better to increase recall"
      ]
    },
    {
      "cell_type": "markdown",
      "metadata": {},
      "source": [
        "## Models with grid search"
      ]
    },
    {
      "cell_type": "markdown",
      "metadata": {},
      "source": [
        "### Decision tree"
      ]
    },
    {
      "cell_type": "code",
      "execution_count": 218,
      "metadata": {},
      "outputs": [
        {
          "name": "stdout",
          "output_type": "stream",
          "text": [
            "Best Parameters: {'max_depth': 4, 'min_samples_leaf': 4, 'min_samples_split': 10}\n",
            "DecisionTreeClassifier(max_depth=4, min_samples_leaf=4, min_samples_split=10,\n",
            "                       random_state=42) shows accuracy 0.8315 on train sample\n",
            "DecisionTreeClassifier(max_depth=4, min_samples_leaf=4, min_samples_split=10,\n",
            "                       random_state=42) shows accuracy 0.7933 on test sample\n",
            "DecisionTreeClassifier(max_depth=4, min_samples_leaf=4, min_samples_split=10,\n",
            "                       random_state=42) shows precision 0.9022 on train sample\n",
            "DecisionTreeClassifier(max_depth=4, min_samples_leaf=4, min_samples_split=10,\n",
            "                       random_state=42) shows precision 0.8136 on test sample\n",
            "DecisionTreeClassifier(max_depth=4, min_samples_leaf=4, min_samples_split=10,\n",
            "                       random_state=42) shows recall 0.6194 on train sample\n",
            "DecisionTreeClassifier(max_depth=4, min_samples_leaf=4, min_samples_split=10,\n",
            "                       random_state=42) shows recall 0.6486 on test sample\n",
            "DecisionTreeClassifier(max_depth=4, min_samples_leaf=4, min_samples_split=10,\n",
            "                       random_state=42) shows f1 0.7345 on train sample\n",
            "DecisionTreeClassifier(max_depth=4, min_samples_leaf=4, min_samples_split=10,\n",
            "                       random_state=42) shows f1 0.7218 on test sample\n",
            "DecisionTreeClassifier(max_depth=4, min_samples_leaf=4, min_samples_split=10,\n",
            "                       random_state=42) shows roc-auc 0.7894 on train sample\n",
            "DecisionTreeClassifier(max_depth=4, min_samples_leaf=4, min_samples_split=10,\n",
            "                       random_state=42) shows roc-auc 0.7719 on test sample\n"
          ]
        }
      ],
      "source": [
        "from sklearn.model_selection import GridSearchCV\n",
        "y = train['Survived']\n",
        "X = train[['Sex', 'Pclass', 'Age', 'Embarked']]\n",
        "\n",
        "gs_decision_tree = GridSearchCV(DecisionTreeClassifier(random_state=42),\n",
        "                  param_grid={\n",
        "                    'max_depth': [None, 2, 4, 6, 8, 10, 20, 30, 40, 50],\n",
        "                    'min_samples_split': [2, 5, 10],\n",
        "                    'min_samples_leaf': [1, 2, 4, 8, 16],\n",
        "                  },\n",
        "                  cv=20,\n",
        "                  scoring='precision')\n",
        "\n",
        "gs_decision_tree.fit(X, y)\n",
        "print(\"Best Parameters:\", gs_decision_tree.best_params_)\n",
        "\n",
        "best_gs_decision_tree = gs_decision_tree.best_estimator_\n",
        "\n",
        "get_stats(clf = best_gs_decision_tree, y_train = y, X_train = X, y_test = validation['Survived'], X_test = validation[['Sex', 'Pclass', 'Age', 'Embarked']])"
      ]
    },
    {
      "cell_type": "code",
      "execution_count": 219,
      "metadata": {},
      "outputs": [
        {
          "name": "stdout",
          "output_type": "stream",
          "text": [
            "Best Parameters: {'max_depth': None, 'min_samples_leaf': 4, 'min_samples_split': 2}\n",
            "DecisionTreeClassifier(min_samples_leaf=4, random_state=42) shows accuracy 0.8624 on train sample\n",
            "DecisionTreeClassifier(min_samples_leaf=4, random_state=42) shows accuracy 0.8101 on test sample\n",
            "DecisionTreeClassifier(min_samples_leaf=4, random_state=42) shows precision 0.9009 on train sample\n",
            "DecisionTreeClassifier(min_samples_leaf=4, random_state=42) shows precision 0.8030 on test sample\n",
            "DecisionTreeClassifier(min_samples_leaf=4, random_state=42) shows recall 0.7127 on train sample\n",
            "DecisionTreeClassifier(min_samples_leaf=4, random_state=42) shows recall 0.7162 on test sample\n",
            "DecisionTreeClassifier(min_samples_leaf=4, random_state=42) shows f1 0.7958 on train sample\n",
            "DecisionTreeClassifier(min_samples_leaf=4, random_state=42) shows f1 0.7571 on test sample\n",
            "DecisionTreeClassifier(min_samples_leaf=4, random_state=42) shows roc-auc 0.8327 on train sample\n",
            "DecisionTreeClassifier(min_samples_leaf=4, random_state=42) shows roc-auc 0.7962 on test sample\n"
          ]
        }
      ],
      "source": [
        "from sklearn.model_selection import GridSearchCV\n",
        "y = train['Survived']\n",
        "X = train[['Sex', 'Pclass', 'Age', 'Embarked']]\n",
        "\n",
        "gs_decision_tree = GridSearchCV(DecisionTreeClassifier(random_state=42),\n",
        "                  param_grid={\n",
        "                    'max_depth': [None, 2, 4, 6, 8, 10, 20, 30, 40, 50],\n",
        "                    'min_samples_split': [2, 5, 10],\n",
        "                    'min_samples_leaf': [1, 2, 4, 8, 16],\n",
        "                  },\n",
        "                  cv=20,\n",
        "                  scoring='recall')\n",
        "\n",
        "gs_decision_tree.fit(X, y)\n",
        "print(\"Best Parameters:\", gs_decision_tree.best_params_)\n",
        "\n",
        "best_gs_decision_tree = gs_decision_tree.best_estimator_\n",
        "\n",
        "get_stats(clf = best_gs_decision_tree, y_train = y, X_train = X, y_test = validation['Survived'], X_test = validation[['Sex', 'Pclass', 'Age', 'Embarked']])"
      ]
    },
    {
      "cell_type": "code",
      "execution_count": 220,
      "metadata": {},
      "outputs": [
        {
          "name": "stdout",
          "output_type": "stream",
          "text": [
            "Best Parameters: {'max_depth': None, 'min_samples_leaf': 16, 'min_samples_split': 2}\n",
            "DecisionTreeClassifier(min_samples_leaf=16, random_state=42) shows accuracy 0.8301 on train sample\n",
            "DecisionTreeClassifier(min_samples_leaf=16, random_state=42) shows accuracy 0.7989 on test sample\n",
            "DecisionTreeClassifier(min_samples_leaf=16, random_state=42) shows precision 0.8356 on train sample\n",
            "DecisionTreeClassifier(min_samples_leaf=16, random_state=42) shows precision 0.8065 on test sample\n",
            "DecisionTreeClassifier(min_samples_leaf=16, random_state=42) shows recall 0.6828 on train sample\n",
            "DecisionTreeClassifier(min_samples_leaf=16, random_state=42) shows recall 0.6757 on test sample\n",
            "DecisionTreeClassifier(min_samples_leaf=16, random_state=42) shows f1 0.7515 on train sample\n",
            "DecisionTreeClassifier(min_samples_leaf=16, random_state=42) shows f1 0.7353 on test sample\n",
            "DecisionTreeClassifier(min_samples_leaf=16, random_state=42) shows roc-auc 0.8009 on train sample\n",
            "DecisionTreeClassifier(min_samples_leaf=16, random_state=42) shows roc-auc 0.7807 on test sample\n"
          ]
        }
      ],
      "source": [
        "from sklearn.model_selection import GridSearchCV\n",
        "y = train['Survived']\n",
        "X = train[['Sex', 'Pclass', 'Age', 'Embarked']]\n",
        "\n",
        "gs_decision_tree = GridSearchCV(DecisionTreeClassifier(random_state=42),\n",
        "                  param_grid={\n",
        "                    'max_depth': [None, 2, 4, 6, 8, 10, 20, 30, 40, 50],\n",
        "                    'min_samples_split': [2, 5, 10],\n",
        "                    'min_samples_leaf': [1, 2, 4, 8, 16],\n",
        "                  },\n",
        "                  cv=20,\n",
        "                  scoring='f1')\n",
        "\n",
        "gs_decision_tree.fit(X, y)\n",
        "print(\"Best Parameters:\", gs_decision_tree.best_params_)\n",
        "\n",
        "best_gs_decision_tree = gs_decision_tree.best_estimator_\n",
        "\n",
        "get_stats(clf = best_gs_decision_tree, y_train = y, X_train = X, y_test = validation['Survived'], X_test = validation[['Sex', 'Pclass', 'Age', 'Embarked']])"
      ]
    },
    {
      "cell_type": "markdown",
      "metadata": {},
      "source": [
        "We got the best accuracy scores\n",
        "DecisionTreeClassifier(min_samples_leaf=4, random_state=42) shows accuracy 0.8101 on test sample\n",
        "Best Parameters: {'max_depth': None, 'min_samples_leaf': 4, 'min_samples_split': 2} \n",
        "Scoring - Recall\n",
        "\n",
        "The best precision scores we got\n",
        "DecisionTreeClassifier(max_depth=4, min_samples_leaf=4, min_samples_split=10, random_state=42) shows precision 0.8136 on test sample\n",
        "Best Parameters: {'max_depth': 4, 'min_samples_leaf': 4, 'min_samples_split': 10}\n",
        "Scoring precision\n",
        "\n",
        "The best recall scores we've gotten\n",
        "DecisionTreeClassifier(min_samples_leaf=4, random_state=42) shows recall 0.7162 on test sample\n",
        "Best Parameters: {'max_depth': None, 'min_samples_leaf': 4, 'min_samples_split': 2}\n",
        "Scoring - Recall\n",
        "\n",
        "The best performance on f1 we got\n",
        "DecisionTreeClassifier(min_samples_leaf=4, random_state=42) shows f1 0.7571 on test sample\n",
        "Best Parameters: {'max_depth': None, 'min_samples_leaf': 4, 'min_samples_split': 2}\n",
        "Scoring - Recall"
      ]
    },
    {
      "cell_type": "markdown",
      "metadata": {},
      "source": [
        "Thus the best model is the one that corresponds to \n",
        "Best Parameters: {'max_depth': None, 'min_samples_leaf': 4, 'min_samples_split': 2}\n",
        "Scoring - Recall\n",
        "\n",
        "it corresponds to the fact that we want to maximize recall without losing any of the other parameters."
      ]
    },
    {
      "cell_type": "markdown",
      "metadata": {},
      "source": [
        "### Random forest"
      ]
    },
    {
      "cell_type": "code",
      "execution_count": 223,
      "metadata": {},
      "outputs": [
        {
          "name": "stdout",
          "output_type": "stream",
          "text": [
            "Best Parameters (Random Forest): {'max_depth': None, 'min_samples_leaf': 1, 'min_samples_split': 5, 'n_estimators': 200}\n",
            "RandomForestClassifier(min_samples_split=5, n_estimators=200, random_state=42) shows accuracy 0.8961 on train sample\n",
            "RandomForestClassifier(min_samples_split=5, n_estimators=200, random_state=42) shows accuracy 0.7821 on test sample\n",
            "RandomForestClassifier(min_samples_split=5, n_estimators=200, random_state=42) shows precision 0.9145 on train sample\n",
            "RandomForestClassifier(min_samples_split=5, n_estimators=200, random_state=42) shows precision 0.7397 on test sample\n",
            "RandomForestClassifier(min_samples_split=5, n_estimators=200, random_state=42) shows recall 0.7985 on train sample\n",
            "RandomForestClassifier(min_samples_split=5, n_estimators=200, random_state=42) shows recall 0.7297 on test sample\n",
            "RandomForestClassifier(min_samples_split=5, n_estimators=200, random_state=42) shows f1 0.8526 on train sample\n",
            "RandomForestClassifier(min_samples_split=5, n_estimators=200, random_state=42) shows f1 0.7347 on test sample\n",
            "RandomForestClassifier(min_samples_split=5, n_estimators=200, random_state=42) shows roc-auc 0.8767 on train sample\n",
            "RandomForestClassifier(min_samples_split=5, n_estimators=200, random_state=42) shows roc-auc 0.7744 on test sample\n"
          ]
        }
      ],
      "source": [
        "y = train['Survived']\n",
        "X = train[['Sex', 'Pclass', 'Age', 'Embarked']]\n",
        "gs_random_forest = GridSearchCV(\n",
        "    RandomForestClassifier(random_state=42),\n",
        "    param_grid={\n",
        "    'n_estimators': [50, 100, 200],\n",
        "    'max_depth': [None, 2, 4, 6, 8, 10, 20, 30, 40, 50],\n",
        "    'min_samples_split': [2, 5, 10],\n",
        "    'min_samples_leaf': [1, 2, 4, 8, 16],\n",
        "},\n",
        "    cv=5,\n",
        "    scoring='recall'\n",
        ")\n",
        "\n",
        "gs_random_forest.fit(X, y)\n",
        "print(\"Best Parameters (Random Forest):\", gs_random_forest.best_params_)\n",
        "\n",
        "best_rf_model = gs_random_forest.best_estimator_\n",
        "get_stats(clf = best_rf_model, y_train = y, X_train = X, y_test = validation['Survived'], X_test = validation[['Sex', 'Pclass', 'Age', 'Embarked']])"
      ]
    },
    {
      "cell_type": "code",
      "execution_count": 224,
      "metadata": {},
      "outputs": [
        {
          "name": "stdout",
          "output_type": "stream",
          "text": [
            "Best Parameters (Random Forest): {'max_depth': 4, 'min_samples_leaf': 1, 'min_samples_split': 10, 'n_estimators': 50}\n",
            "RandomForestClassifier(max_depth=4, min_samples_split=10, n_estimators=50,\n",
            "                       random_state=42) shows accuracy 0.8315 on train sample\n",
            "RandomForestClassifier(max_depth=4, min_samples_split=10, n_estimators=50,\n",
            "                       random_state=42) shows accuracy 0.8045 on test sample\n",
            "RandomForestClassifier(max_depth=4, min_samples_split=10, n_estimators=50,\n",
            "                       random_state=42) shows precision 0.9111 on train sample\n",
            "RandomForestClassifier(max_depth=4, min_samples_split=10, n_estimators=50,\n",
            "                       random_state=42) shows precision 0.8305 on test sample\n",
            "RandomForestClassifier(max_depth=4, min_samples_split=10, n_estimators=50,\n",
            "                       random_state=42) shows recall 0.6119 on train sample\n",
            "RandomForestClassifier(max_depth=4, min_samples_split=10, n_estimators=50,\n",
            "                       random_state=42) shows recall 0.6622 on test sample\n",
            "RandomForestClassifier(max_depth=4, min_samples_split=10, n_estimators=50,\n",
            "                       random_state=42) shows f1 0.7321 on train sample\n",
            "RandomForestClassifier(max_depth=4, min_samples_split=10, n_estimators=50,\n",
            "                       random_state=42) shows f1 0.7368 on test sample\n",
            "RandomForestClassifier(max_depth=4, min_samples_split=10, n_estimators=50,\n",
            "                       random_state=42) shows roc-auc 0.7880 on train sample\n",
            "RandomForestClassifier(max_depth=4, min_samples_split=10, n_estimators=50,\n",
            "                       random_state=42) shows roc-auc 0.7835 on test sample\n"
          ]
        }
      ],
      "source": [
        "y = train['Survived']\n",
        "X = train[['Sex', 'Pclass', 'Age', 'Embarked']]\n",
        "gs_random_forest = GridSearchCV(\n",
        "    RandomForestClassifier(random_state=42),\n",
        "    param_grid={\n",
        "    'n_estimators': [50, 100, 200],\n",
        "    'max_depth': [None, 2, 4, 6, 8, 10, 20, 30, 40, 50],\n",
        "    'min_samples_split': [2, 5, 10],\n",
        "    'min_samples_leaf': [1, 2, 4, 8, 16],\n",
        "},\n",
        "    cv=5,\n",
        "    scoring='precision'\n",
        ")\n",
        "\n",
        "gs_random_forest.fit(X, y)\n",
        "print(\"Best Parameters (Random Forest):\", gs_random_forest.best_params_)\n",
        "\n",
        "best_rf_model = gs_random_forest.best_estimator_\n",
        "get_stats(clf = best_rf_model, y_train = y, X_train = X, y_test = validation['Survived'], X_test = validation[['Sex', 'Pclass', 'Age', 'Embarked']])"
      ]
    },
    {
      "cell_type": "code",
      "execution_count": 225,
      "metadata": {},
      "outputs": [
        {
          "name": "stdout",
          "output_type": "stream",
          "text": [
            "Best Parameters (Random Forest): {'max_depth': 4, 'min_samples_leaf': 1, 'min_samples_split': 10, 'n_estimators': 50}\n",
            "RandomForestClassifier(max_depth=4, min_samples_split=10, n_estimators=50,\n",
            "                       random_state=42) shows accuracy 0.8315 on train sample\n",
            "RandomForestClassifier(max_depth=4, min_samples_split=10, n_estimators=50,\n",
            "                       random_state=42) shows accuracy 0.8045 on test sample\n",
            "RandomForestClassifier(max_depth=4, min_samples_split=10, n_estimators=50,\n",
            "                       random_state=42) shows precision 0.9111 on train sample\n",
            "RandomForestClassifier(max_depth=4, min_samples_split=10, n_estimators=50,\n",
            "                       random_state=42) shows precision 0.8305 on test sample\n",
            "RandomForestClassifier(max_depth=4, min_samples_split=10, n_estimators=50,\n",
            "                       random_state=42) shows recall 0.6119 on train sample\n",
            "RandomForestClassifier(max_depth=4, min_samples_split=10, n_estimators=50,\n",
            "                       random_state=42) shows recall 0.6622 on test sample\n",
            "RandomForestClassifier(max_depth=4, min_samples_split=10, n_estimators=50,\n",
            "                       random_state=42) shows f1 0.7321 on train sample\n",
            "RandomForestClassifier(max_depth=4, min_samples_split=10, n_estimators=50,\n",
            "                       random_state=42) shows f1 0.7368 on test sample\n",
            "RandomForestClassifier(max_depth=4, min_samples_split=10, n_estimators=50,\n",
            "                       random_state=42) shows roc-auc 0.7880 on train sample\n",
            "RandomForestClassifier(max_depth=4, min_samples_split=10, n_estimators=50,\n",
            "                       random_state=42) shows roc-auc 0.7835 on test sample\n"
          ]
        }
      ],
      "source": [
        "y = train['Survived']\n",
        "X = train[['Sex', 'Pclass', 'Age', 'Embarked']]\n",
        "gs_random_forest = GridSearchCV(\n",
        "    RandomForestClassifier(random_state=42),\n",
        "    param_grid={\n",
        "    'n_estimators': [50, 100, 200],\n",
        "    'max_depth': [None, 2, 4, 6, 8, 10, 20, 30, 40, 50],\n",
        "    'min_samples_split': [2, 5, 10],\n",
        "    'min_samples_leaf': [1, 2, 4, 8, 16],\n",
        "},\n",
        "    cv=5,\n",
        "    scoring='accuracy'\n",
        ")\n",
        "\n",
        "gs_random_forest.fit(X, y)\n",
        "print(\"Best Parameters (Random Forest):\", gs_random_forest.best_params_)\n",
        "\n",
        "best_rf_model = gs_random_forest.best_estimator_\n",
        "get_stats(clf = best_rf_model, y_train = y, X_train = X, y_test = validation['Survived'], X_test = validation[['Sex', 'Pclass', 'Age', 'Embarked']])"
      ]
    },
    {
      "cell_type": "markdown",
      "metadata": {},
      "source": [
        "We got the best accuracy score\n",
        "\n",
        "\n",
        "\n",
        "\n",
        "\n",
        "RandomForestClassifier(max_depth=4, min_samples_split=10, n_estimators=50,\n",
        "                       random_state=42) shows accuracy 0.8045 on test sample\n",
        "\n",
        "\n",
        "\n",
        "                       \n",
        "Best Parameters (Random Forest): {'max_depth': 4, 'min_samples_leaf': 1, 'min_samples_split': 10, 'n_estimators': 50}                      "
      ]
    },
    {
      "cell_type": "markdown",
      "metadata": {},
      "source": [
        "We got the best result on the precision"
      ]
    },
    {
      "cell_type": "markdown",
      "metadata": {},
      "source": [
        "RandomForestClassifier(max_depth=4, min_samples_split=10, n_estimators=50,\n",
        "                       random_state=42) shows precision 0.8305 on test sample\n",
        "\n",
        "\n",
        "\n",
        "\n",
        "                       \n",
        "Best Parameters (Random Forest): {'max_depth': 4, 'min_samples_leaf': 1, 'min_samples_split': 10, 'n_estimators': 50}"
      ]
    },
    {
      "cell_type": "markdown",
      "metadata": {},
      "source": [
        "We got the best result on the recall"
      ]
    },
    {
      "cell_type": "markdown",
      "metadata": {},
      "source": [
        "RandomForestClassifier(min_samples_split=5, n_estimators=200, random_state=42) shows recall 0.7297 on test sample\n",
        "\n",
        "Best Parameters (Random Forest): {'max_depth': None, 'min_samples_leaf': 1, 'min_samples_split': 5, 'n_estimators': 200}"
      ]
    },
    {
      "cell_type": "markdown",
      "metadata": {},
      "source": [
        "Thus if we want to get the best recall, we should take a random forest model with parameters"
      ]
    },
    {
      "cell_type": "markdown",
      "metadata": {},
      "source": [
        "Best Parameters (Random Forest): {'max_depth': None, 'min_samples_leaf': 1, 'min_samples_split': 5, 'n_estimators': 200}"
      ]
    }
  ],
  "metadata": {
    "colab": {
      "provenance": []
    },
    "kernelspec": {
      "display_name": "Python 3",
      "language": "python",
      "name": "python3"
    },
    "language_info": {
      "codemirror_mode": {
        "name": "ipython",
        "version": 3
      },
      "file_extension": ".py",
      "mimetype": "text/x-python",
      "name": "python",
      "nbconvert_exporter": "python",
      "pygments_lexer": "ipython3",
      "version": "3.10.11"
    }
  },
  "nbformat": 4,
  "nbformat_minor": 0
}
