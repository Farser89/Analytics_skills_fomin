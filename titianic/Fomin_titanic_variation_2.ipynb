{
  "cells": [
    {
      "cell_type": "markdown",
      "metadata": {
        "id": "gG_DswiTlbAj"
      },
      "source": [
        "<h1><center><font size=\"6\">Classification</font></center></h1>\n",
        "\n"
      ]
    },
    {
      "cell_type": "markdown",
      "metadata": {
        "id": "GXW0NdKJzwKm"
      },
      "source": [
        "In your second homework you need to create a model that predicts which passengers survived the Titanic shipwreck."
      ]
    },
    {
      "cell_type": "code",
      "execution_count": 1,
      "metadata": {
        "_cell_guid": "b1076dfc-b9ad-4769-8c92-a6c4dae69d19",
        "_kg_hide-input": true,
        "_uuid": "8f2839f25d086af736a60e9eeb907d3b93b6e0e5",
        "id": "7R-UgUr7lbAr",
        "trusted": true
      },
      "outputs": [],
      "source": [
        "import pandas as pd\n",
        "import numpy as np\n",
        "import datetime\n",
        "import sys\n",
        "import os\n",
        "import random\n",
        "import matplotlib.pyplot as plt\n",
        "from sklearn.model_selection import train_test_split, KFold, GridSearchCV\n",
        "from sklearn import metrics"
      ]
    },
    {
      "cell_type": "code",
      "execution_count": 2,
      "metadata": {
        "_cell_guid": "79c7e3d0-c299-4dcb-8224-4455121ee9b0",
        "_kg_hide-input": true,
        "_uuid": "d629ff2d2480ee46fbb7e2d37f6b5fab8052498a",
        "id": "N_BhjxNKlbAs",
        "trusted": true
      },
      "outputs": [],
      "source": [
        "train_df=pd.read_csv('train.csv')\n",
        "test_df=pd.read_csv('test.csv')"
      ]
    },
    {
      "cell_type": "markdown",
      "metadata": {
        "_uuid": "55b41e17833da924475d38f9a8c22a1731efb8ab",
        "id": "iqEJo3vGlbAs"
      },
      "source": [
        "# <a id='3'>Data exploration</a>  \n",
        "\n",
        "We check the shape of train and test dataframes and also show a selection of rows, to have an initial understanding of the data.\n",
        "\n"
      ]
    },
    {
      "cell_type": "code",
      "execution_count": 3,
      "metadata": {
        "_kg_hide-input": true,
        "_uuid": "469fd9a6bba1521569b762a5030a1e1a50bff313",
        "colab": {
          "base_uri": "https://localhost:8080/",
          "height": 250
        },
        "id": "2wm530ZKlbAt",
        "outputId": "87879fb6-27f8-4dfc-9a8b-46722cdaa6e9",
        "trusted": true
      },
      "outputs": [
        {
          "data": {
            "text/html": [
              "<div>\n",
              "<style scoped>\n",
              "    .dataframe tbody tr th:only-of-type {\n",
              "        vertical-align: middle;\n",
              "    }\n",
              "\n",
              "    .dataframe tbody tr th {\n",
              "        vertical-align: top;\n",
              "    }\n",
              "\n",
              "    .dataframe thead th {\n",
              "        text-align: right;\n",
              "    }\n",
              "</style>\n",
              "<table border=\"1\" class=\"dataframe\">\n",
              "  <thead>\n",
              "    <tr style=\"text-align: right;\">\n",
              "      <th></th>\n",
              "      <th>PassengerId</th>\n",
              "      <th>Survived</th>\n",
              "      <th>Pclass</th>\n",
              "      <th>Name</th>\n",
              "      <th>Sex</th>\n",
              "      <th>Age</th>\n",
              "      <th>SibSp</th>\n",
              "      <th>Parch</th>\n",
              "      <th>Ticket</th>\n",
              "      <th>Fare</th>\n",
              "      <th>Cabin</th>\n",
              "      <th>Embarked</th>\n",
              "    </tr>\n",
              "  </thead>\n",
              "  <tbody>\n",
              "    <tr>\n",
              "      <th>80</th>\n",
              "      <td>81</td>\n",
              "      <td>0</td>\n",
              "      <td>3</td>\n",
              "      <td>Waelens, Mr. Achille</td>\n",
              "      <td>male</td>\n",
              "      <td>22.0</td>\n",
              "      <td>0</td>\n",
              "      <td>0</td>\n",
              "      <td>345767</td>\n",
              "      <td>9.0000</td>\n",
              "      <td>NaN</td>\n",
              "      <td>S</td>\n",
              "    </tr>\n",
              "    <tr>\n",
              "      <th>111</th>\n",
              "      <td>112</td>\n",
              "      <td>0</td>\n",
              "      <td>3</td>\n",
              "      <td>Zabour, Miss. Hileni</td>\n",
              "      <td>female</td>\n",
              "      <td>14.5</td>\n",
              "      <td>1</td>\n",
              "      <td>0</td>\n",
              "      <td>2665</td>\n",
              "      <td>14.4542</td>\n",
              "      <td>NaN</td>\n",
              "      <td>C</td>\n",
              "    </tr>\n",
              "    <tr>\n",
              "      <th>7</th>\n",
              "      <td>8</td>\n",
              "      <td>0</td>\n",
              "      <td>3</td>\n",
              "      <td>Palsson, Master. Gosta Leonard</td>\n",
              "      <td>male</td>\n",
              "      <td>2.0</td>\n",
              "      <td>3</td>\n",
              "      <td>1</td>\n",
              "      <td>349909</td>\n",
              "      <td>21.0750</td>\n",
              "      <td>NaN</td>\n",
              "      <td>S</td>\n",
              "    </tr>\n",
              "    <tr>\n",
              "      <th>569</th>\n",
              "      <td>570</td>\n",
              "      <td>1</td>\n",
              "      <td>3</td>\n",
              "      <td>Jonsson, Mr. Carl</td>\n",
              "      <td>male</td>\n",
              "      <td>32.0</td>\n",
              "      <td>0</td>\n",
              "      <td>0</td>\n",
              "      <td>350417</td>\n",
              "      <td>7.8542</td>\n",
              "      <td>NaN</td>\n",
              "      <td>S</td>\n",
              "    </tr>\n",
              "    <tr>\n",
              "      <th>608</th>\n",
              "      <td>609</td>\n",
              "      <td>1</td>\n",
              "      <td>2</td>\n",
              "      <td>Laroche, Mrs. Joseph (Juliette Marie Louise La...</td>\n",
              "      <td>female</td>\n",
              "      <td>22.0</td>\n",
              "      <td>1</td>\n",
              "      <td>2</td>\n",
              "      <td>SC/Paris 2123</td>\n",
              "      <td>41.5792</td>\n",
              "      <td>NaN</td>\n",
              "      <td>C</td>\n",
              "    </tr>\n",
              "  </tbody>\n",
              "</table>\n",
              "</div>"
            ],
            "text/plain": [
              "     PassengerId  Survived  Pclass  \\\n",
              "80            81         0       3   \n",
              "111          112         0       3   \n",
              "7              8         0       3   \n",
              "569          570         1       3   \n",
              "608          609         1       2   \n",
              "\n",
              "                                                  Name     Sex   Age  SibSp  \\\n",
              "80                                Waelens, Mr. Achille    male  22.0      0   \n",
              "111                               Zabour, Miss. Hileni  female  14.5      1   \n",
              "7                       Palsson, Master. Gosta Leonard    male   2.0      3   \n",
              "569                                  Jonsson, Mr. Carl    male  32.0      0   \n",
              "608  Laroche, Mrs. Joseph (Juliette Marie Louise La...  female  22.0      1   \n",
              "\n",
              "     Parch         Ticket     Fare Cabin Embarked  \n",
              "80       0         345767   9.0000   NaN        S  \n",
              "111      0           2665  14.4542   NaN        C  \n",
              "7        1         349909  21.0750   NaN        S  \n",
              "569      0         350417   7.8542   NaN        S  \n",
              "608      2  SC/Paris 2123  41.5792   NaN        C  "
            ]
          },
          "execution_count": 3,
          "metadata": {},
          "output_type": "execute_result"
        }
      ],
      "source": [
        "train_df.sample(5).head()"
      ]
    },
    {
      "cell_type": "code",
      "execution_count": 4,
      "metadata": {
        "_kg_hide-input": true,
        "_uuid": "ec12616d56dfbf5a6d40d5c1f692321e7260e461",
        "colab": {
          "base_uri": "https://localhost:8080/",
          "height": 250
        },
        "id": "nLcNQuK3lbAt",
        "outputId": "47e93a61-70a7-4be8-9538-02bee4f5ec23",
        "trusted": true
      },
      "outputs": [
        {
          "data": {
            "text/html": [
              "<div>\n",
              "<style scoped>\n",
              "    .dataframe tbody tr th:only-of-type {\n",
              "        vertical-align: middle;\n",
              "    }\n",
              "\n",
              "    .dataframe tbody tr th {\n",
              "        vertical-align: top;\n",
              "    }\n",
              "\n",
              "    .dataframe thead th {\n",
              "        text-align: right;\n",
              "    }\n",
              "</style>\n",
              "<table border=\"1\" class=\"dataframe\">\n",
              "  <thead>\n",
              "    <tr style=\"text-align: right;\">\n",
              "      <th></th>\n",
              "      <th>PassengerId</th>\n",
              "      <th>Pclass</th>\n",
              "      <th>Name</th>\n",
              "      <th>Sex</th>\n",
              "      <th>Age</th>\n",
              "      <th>SibSp</th>\n",
              "      <th>Parch</th>\n",
              "      <th>Ticket</th>\n",
              "      <th>Fare</th>\n",
              "      <th>Cabin</th>\n",
              "      <th>Embarked</th>\n",
              "    </tr>\n",
              "  </thead>\n",
              "  <tbody>\n",
              "    <tr>\n",
              "      <th>17</th>\n",
              "      <td>909</td>\n",
              "      <td>3</td>\n",
              "      <td>Assaf, Mr. Gerios</td>\n",
              "      <td>male</td>\n",
              "      <td>21.0</td>\n",
              "      <td>0</td>\n",
              "      <td>0</td>\n",
              "      <td>2692</td>\n",
              "      <td>7.2250</td>\n",
              "      <td>NaN</td>\n",
              "      <td>C</td>\n",
              "    </tr>\n",
              "    <tr>\n",
              "      <th>336</th>\n",
              "      <td>1228</td>\n",
              "      <td>2</td>\n",
              "      <td>de Brito, Mr. Jose Joaquim</td>\n",
              "      <td>male</td>\n",
              "      <td>32.0</td>\n",
              "      <td>0</td>\n",
              "      <td>0</td>\n",
              "      <td>244360</td>\n",
              "      <td>13.0000</td>\n",
              "      <td>NaN</td>\n",
              "      <td>S</td>\n",
              "    </tr>\n",
              "    <tr>\n",
              "      <th>187</th>\n",
              "      <td>1079</td>\n",
              "      <td>3</td>\n",
              "      <td>Davies, Mr. Joseph</td>\n",
              "      <td>male</td>\n",
              "      <td>17.0</td>\n",
              "      <td>2</td>\n",
              "      <td>0</td>\n",
              "      <td>A/4 48873</td>\n",
              "      <td>8.0500</td>\n",
              "      <td>NaN</td>\n",
              "      <td>S</td>\n",
              "    </tr>\n",
              "    <tr>\n",
              "      <th>260</th>\n",
              "      <td>1152</td>\n",
              "      <td>3</td>\n",
              "      <td>de Messemaeker, Mr. Guillaume Joseph</td>\n",
              "      <td>male</td>\n",
              "      <td>36.5</td>\n",
              "      <td>1</td>\n",
              "      <td>0</td>\n",
              "      <td>345572</td>\n",
              "      <td>17.4000</td>\n",
              "      <td>NaN</td>\n",
              "      <td>S</td>\n",
              "    </tr>\n",
              "    <tr>\n",
              "      <th>68</th>\n",
              "      <td>960</td>\n",
              "      <td>1</td>\n",
              "      <td>Tucker, Mr. Gilbert Milligan Jr</td>\n",
              "      <td>male</td>\n",
              "      <td>31.0</td>\n",
              "      <td>0</td>\n",
              "      <td>0</td>\n",
              "      <td>2543</td>\n",
              "      <td>28.5375</td>\n",
              "      <td>C53</td>\n",
              "      <td>C</td>\n",
              "    </tr>\n",
              "  </tbody>\n",
              "</table>\n",
              "</div>"
            ],
            "text/plain": [
              "     PassengerId  Pclass                                  Name   Sex   Age  \\\n",
              "17           909       3                     Assaf, Mr. Gerios  male  21.0   \n",
              "336         1228       2            de Brito, Mr. Jose Joaquim  male  32.0   \n",
              "187         1079       3                    Davies, Mr. Joseph  male  17.0   \n",
              "260         1152       3  de Messemaeker, Mr. Guillaume Joseph  male  36.5   \n",
              "68           960       1       Tucker, Mr. Gilbert Milligan Jr  male  31.0   \n",
              "\n",
              "     SibSp  Parch     Ticket     Fare Cabin Embarked  \n",
              "17       0      0       2692   7.2250   NaN        C  \n",
              "336      0      0     244360  13.0000   NaN        S  \n",
              "187      2      0  A/4 48873   8.0500   NaN        S  \n",
              "260      1      0     345572  17.4000   NaN        S  \n",
              "68       0      0       2543  28.5375   C53        C  "
            ]
          },
          "execution_count": 4,
          "metadata": {},
          "output_type": "execute_result"
        }
      ],
      "source": [
        "test_df.sample(5).head()"
      ]
    },
    {
      "cell_type": "code",
      "execution_count": 5,
      "metadata": {
        "_kg_hide-input": true,
        "_uuid": "0f3a03fce399eaeb0226728af285486d6f22abcd",
        "colab": {
          "base_uri": "https://localhost:8080/"
        },
        "id": "3ZR8jCBYlbAt",
        "outputId": "5ab1911b-ada3-4db1-94d7-b6da304c9c10",
        "trusted": true
      },
      "outputs": [
        {
          "name": "stdout",
          "output_type": "stream",
          "text": [
            "Train: rows:891 cols:12\n",
            "Test:  rows:418 cols:11\n"
          ]
        }
      ],
      "source": [
        "print(\"Train: rows:{} cols:{}\".format(train_df.shape[0], train_df.shape[1]))\n",
        "print(\"Test:  rows:{} cols:{}\".format(test_df.shape[0], test_df.shape[1]))"
      ]
    },
    {
      "cell_type": "markdown",
      "metadata": {
        "_uuid": "ccf999716af89faf72b86be24e800f41e38e48ec",
        "id": "RY47DxI3lbAu"
      },
      "source": [
        "Both **train** and **test** files contains the following values:  \n",
        "\n",
        "* **PassengerID** - the index of the passenger (in the dataset);  \n",
        "* **PClass** - the class of the passenger (from 1 to 3);\n",
        "* **Name** - the name of the passenger;\n",
        "* **Sex** - the sex of the passenger (female or male);  \n",
        "* **Age** - the age (where available) of the passenger;  \n",
        "* **SibSp** - the number of sibilings / spouses aboard of Titanic;  \n",
        "* **Parch** - the number of parents / children aboard of Titanic;  \n",
        "* **Ticket** - the ticket number;  \n",
        "* **Fare** - the passenger fare (ticket cost);  \n",
        "* **Cabin** - the cabin number;  \n",
        "* **Embarked** - the place of embarcation of the passenger (C = Cherbourg, Q = Queenstown, S = Southampton).  \n",
        "\n",
        "The **train** data has as well the target value, **Survived**.\n",
        "\n",
        "It is important to have a good understanding of the data before going to create a model. Therefore we will explore the features."
      ]
    },
    {
      "cell_type": "markdown",
      "metadata": {
        "_uuid": "0b743ae9ca2a88bce058759520878a2a0a76688a",
        "id": "wzx3q4XnlbAu"
      },
      "source": [
        "Let's start by checking if there are missing data and unlabeled data.\n",
        "\n",
        "Next, analyze the dependencies of the target variable on various features, such as Age, Sex, and so on, using approaches similar to those in the first homework.\n",
        "\n",
        "Draw conclusions about what affects whether the passenger survives, check the distribution of features in the train and test data. "
      ]
    },
    {
      "cell_type": "code",
      "execution_count": 6,
      "metadata": {
        "id": "ZCXEtfrz1KBh"
      },
      "outputs": [
        {
          "name": "stdout",
          "output_type": "stream",
          "text": [
            "<class 'pandas.core.frame.DataFrame'>\n",
            "RangeIndex: 891 entries, 0 to 890\n",
            "Data columns (total 12 columns):\n",
            " #   Column       Non-Null Count  Dtype  \n",
            "---  ------       --------------  -----  \n",
            " 0   PassengerId  891 non-null    int64  \n",
            " 1   Survived     891 non-null    int64  \n",
            " 2   Pclass       891 non-null    int64  \n",
            " 3   Name         891 non-null    object \n",
            " 4   Sex          891 non-null    object \n",
            " 5   Age          714 non-null    float64\n",
            " 6   SibSp        891 non-null    int64  \n",
            " 7   Parch        891 non-null    int64  \n",
            " 8   Ticket       891 non-null    object \n",
            " 9   Fare         891 non-null    float64\n",
            " 10  Cabin        204 non-null    object \n",
            " 11  Embarked     889 non-null    object \n",
            "dtypes: float64(2), int64(5), object(5)\n",
            "memory usage: 83.7+ KB\n"
          ]
        }
      ],
      "source": [
        "train_df.info()"
      ]
    },
    {
      "cell_type": "code",
      "execution_count": 7,
      "metadata": {},
      "outputs": [
        {
          "name": "stdout",
          "output_type": "stream",
          "text": [
            "<class 'pandas.core.frame.DataFrame'>\n",
            "RangeIndex: 418 entries, 0 to 417\n",
            "Data columns (total 11 columns):\n",
            " #   Column       Non-Null Count  Dtype  \n",
            "---  ------       --------------  -----  \n",
            " 0   PassengerId  418 non-null    int64  \n",
            " 1   Pclass       418 non-null    int64  \n",
            " 2   Name         418 non-null    object \n",
            " 3   Sex          418 non-null    object \n",
            " 4   Age          332 non-null    float64\n",
            " 5   SibSp        418 non-null    int64  \n",
            " 6   Parch        418 non-null    int64  \n",
            " 7   Ticket       418 non-null    object \n",
            " 8   Fare         417 non-null    float64\n",
            " 9   Cabin        91 non-null     object \n",
            " 10  Embarked     418 non-null    object \n",
            "dtypes: float64(2), int64(4), object(5)\n",
            "memory usage: 36.0+ KB\n"
          ]
        }
      ],
      "source": [
        "test_df.info()"
      ]
    },
    {
      "cell_type": "markdown",
      "metadata": {},
      "source": [
        "Написать, что пропущенные значения в обоих выборках, и привести переменные. В трейн, где столбец не 891, а меньше. В тесте, где столбец не 418, а меньше"
      ]
    },
    {
      "cell_type": "code",
      "execution_count": 8,
      "metadata": {},
      "outputs": [
        {
          "data": {
            "image/png": "[encoded data removed]",
            "text/plain": [
              "<Figure size 800x600 with 1 Axes>"
            ]
          },
          "metadata": {},
          "output_type": "display_data"
        }
      ],
      "source": [
        "import seaborn as sns\n",
        "import matplotlib.pyplot as plt\n",
        "\n",
        "sex = train_df['Sex'].value_counts().reset_index()\n",
        "sex.columns = ['Sex', 'Count']\n",
        "\n",
        "plt.figure(figsize=(8, 6))\n",
        "sns.barplot(x='Sex', y='Count', data=sex, palette='viridis')\n",
        "plt.xlabel('Sex')\n",
        "plt.ylabel('Number of gender')\n",
        "plt.show()"
      ]
    },
    {
      "cell_type": "code",
      "execution_count": 11,
      "metadata": {},
      "outputs": [
        {
          "data": {
            "image/png": "[encoded data removed]",
            "text/plain": [
              "<Figure size 800x600 with 1 Axes>"
            ]
          },
          "metadata": {},
          "output_type": "display_data"
        }
      ],
      "source": [
        "survived_sex = train_df.groupby(['Sex', 'Survived']).size().unstack()\n",
        "survived_sex.columns = ['Not_Survived', 'Survived']\n",
        "survived_sex = survived_sex.reset_index()\n",
        "\n",
        "plt.figure(figsize=(8, 6))\n",
        "sns.barplot(x='Sex', y='Not_Survived', data=survived_sex, color='coral', label='Did not Survive')\n",
        "sns.barplot(x='Sex', y='Survived', data=survived_sex, color='skyblue', label='Survived')\n",
        "plt.legend()\n",
        "plt.xlabel('Sex')\n",
        "plt.ylabel('Count')\n",
        "plt.show()"
      ]
    },
    {
      "cell_type": "code",
      "execution_count": 10,
      "metadata": {},
      "outputs": [
        {
          "data": {
            "text/html": [
              "<div>\n",
              "<style scoped>\n",
              "    .dataframe tbody tr th:only-of-type {\n",
              "        vertical-align: middle;\n",
              "    }\n",
              "\n",
              "    .dataframe tbody tr th {\n",
              "        vertical-align: top;\n",
              "    }\n",
              "\n",
              "    .dataframe thead th {\n",
              "        text-align: right;\n",
              "    }\n",
              "</style>\n",
              "<table border=\"1\" class=\"dataframe\">\n",
              "  <thead>\n",
              "    <tr style=\"text-align: right;\">\n",
              "      <th></th>\n",
              "      <th>Sex</th>\n",
              "      <th>Not_Survived</th>\n",
              "      <th>Survived</th>\n",
              "      <th>percent</th>\n",
              "    </tr>\n",
              "  </thead>\n",
              "  <tbody>\n",
              "    <tr>\n",
              "      <th>0</th>\n",
              "      <td>female</td>\n",
              "      <td>81</td>\n",
              "      <td>233</td>\n",
              "      <td>0.742038</td>\n",
              "    </tr>\n",
              "    <tr>\n",
              "      <th>1</th>\n",
              "      <td>male</td>\n",
              "      <td>468</td>\n",
              "      <td>109</td>\n",
              "      <td>0.188908</td>\n",
              "    </tr>\n",
              "  </tbody>\n",
              "</table>\n",
              "</div>"
            ],
            "text/plain": [
              "      Sex  Not_Survived  Survived   percent\n",
              "0  female            81       233  0.742038\n",
              "1    male           468       109  0.188908"
            ]
          },
          "execution_count": 10,
          "metadata": {},
          "output_type": "execute_result"
        }
      ],
      "source": [
        "survived_sex['percent'] = survived_sex['Survived'] / (survived_sex['Survived'] +survived_sex['Not_Survived'])\n",
        "survived_sex"
      ]
    },
    {
      "cell_type": "markdown",
      "metadata": {},
      "source": [
        "Описываешь"
      ]
    },
    {
      "cell_type": "code",
      "execution_count": 24,
      "metadata": {},
      "outputs": [
        {
          "data": {
            "image/png": "[encoded data removed]",
            "text/plain": [
              "<Figure size 800x600 with 1 Axes>"
            ]
          },
          "metadata": {},
          "output_type": "display_data"
        }
      ],
      "source": [
        "pclass = train_df['Pclass'].value_counts().reset_index()\n",
        "\n",
        "plt.figure(figsize=(8, 6))\n",
        "sns.barplot(x='Pclass', y='count', data=pclass, palette='viridis')\n",
        "plt.xlabel('Pclass')\n",
        "plt.ylabel('Number of passengers in Pclasses')\n",
        "plt.show()"
      ]
    },
    {
      "cell_type": "code",
      "execution_count": 25,
      "metadata": {},
      "outputs": [
        {
          "data": {
            "image/png": "[encoded data removed]",
            "text/plain": [
              "<Figure size 800x600 with 1 Axes>"
            ]
          },
          "metadata": {},
          "output_type": "display_data"
        }
      ],
      "source": [
        "survived_pclass = train_df.groupby(['Pclass', 'Survived']).size().unstack()\n",
        "survived_pclass.columns = ['Not_Survived', 'Survived']\n",
        "survived_pclass = survived_pclass.reset_index()\n",
        "\n",
        "plt.figure(figsize=(8, 6))\n",
        "sns.barplot(x='Pclass', y='Not_Survived', data=survived_pclass, color='coral', label='Did not Survive')\n",
        "sns.barplot(x='Pclass', y='Survived', data=survived_pclass, color='skyblue', label='Survived')\n",
        "plt.legend()\n",
        "plt.xlabel('Pclass')\n",
        "plt.ylabel('Count')\n",
        "plt.show()"
      ]
    },
    {
      "cell_type": "code",
      "execution_count": 26,
      "metadata": {},
      "outputs": [
        {
          "data": {
            "text/html": [
              "<div>\n",
              "<style scoped>\n",
              "    .dataframe tbody tr th:only-of-type {\n",
              "        vertical-align: middle;\n",
              "    }\n",
              "\n",
              "    .dataframe tbody tr th {\n",
              "        vertical-align: top;\n",
              "    }\n",
              "\n",
              "    .dataframe thead th {\n",
              "        text-align: right;\n",
              "    }\n",
              "</style>\n",
              "<table border=\"1\" class=\"dataframe\">\n",
              "  <thead>\n",
              "    <tr style=\"text-align: right;\">\n",
              "      <th></th>\n",
              "      <th>Pclass</th>\n",
              "      <th>Not_Survived</th>\n",
              "      <th>Survived</th>\n",
              "      <th>percent</th>\n",
              "    </tr>\n",
              "  </thead>\n",
              "  <tbody>\n",
              "    <tr>\n",
              "      <th>0</th>\n",
              "      <td>1</td>\n",
              "      <td>80</td>\n",
              "      <td>136</td>\n",
              "      <td>0.629630</td>\n",
              "    </tr>\n",
              "    <tr>\n",
              "      <th>1</th>\n",
              "      <td>2</td>\n",
              "      <td>97</td>\n",
              "      <td>87</td>\n",
              "      <td>0.472826</td>\n",
              "    </tr>\n",
              "    <tr>\n",
              "      <th>2</th>\n",
              "      <td>3</td>\n",
              "      <td>372</td>\n",
              "      <td>119</td>\n",
              "      <td>0.242363</td>\n",
              "    </tr>\n",
              "  </tbody>\n",
              "</table>\n",
              "</div>"
            ],
            "text/plain": [
              "   Pclass  Not_Survived  Survived   percent\n",
              "0       1            80       136  0.629630\n",
              "1       2            97        87  0.472826\n",
              "2       3           372       119  0.242363"
            ]
          },
          "execution_count": 26,
          "metadata": {},
          "output_type": "execute_result"
        }
      ],
      "source": [
        "survived_pclass['percent'] = survived_pclass['Survived'] / (survived_pclass['Survived'] + survived_pclass['Not_Survived'])\n",
        "survived_pclass"
      ]
    },
    {
      "cell_type": "markdown",
      "metadata": {},
      "source": [
        "Описываешь. Да я знаю, что в первом классе не видно умерших по графику, 3 часа ночи, тяжело"
      ]
    },
    {
      "cell_type": "code",
      "execution_count": 27,
      "metadata": {},
      "outputs": [
        {
          "name": "stderr",
          "output_type": "stream",
          "text": [
            "/Users/dimafomin/.pyenv/versions/3.10.11/lib/python3.10/site-packages/seaborn/_oldcore.py:1119: FutureWarning: use_inf_as_na option is deprecated and will be removed in a future version. Convert inf values to NaN before operating instead.\n",
            "  with pd.option_context('mode.use_inf_as_na', True):\n"
          ]
        },
        {
          "data": {
            "image/png": "[encoded data removed]",
            "text/plain": [
              "<Figure size 1000x600 with 1 Axes>"
            ]
          },
          "metadata": {},
          "output_type": "display_data"
        }
      ],
      "source": [
        "plt.figure(figsize=(10, 6))\n",
        "sns.histplot(train_df['Age'], bins=10, kde=True, color='skyblue')\n",
        "plt.title('Distribution of Ages')\n",
        "plt.xlabel('Age')\n",
        "plt.ylabel('Count')\n",
        "plt.show()"
      ]
    },
    {
      "cell_type": "code",
      "execution_count": 28,
      "metadata": {},
      "outputs": [
        {
          "name": "stderr",
          "output_type": "stream",
          "text": [
            "/Users/dimafomin/.pyenv/versions/3.10.11/lib/python3.10/site-packages/seaborn/_oldcore.py:1119: FutureWarning: use_inf_as_na option is deprecated and will be removed in a future version. Convert inf values to NaN before operating instead.\n",
            "  with pd.option_context('mode.use_inf_as_na', True):\n"
          ]
        },
        {
          "data": {
            "image/png": "[encoded data removed]",
            "text/plain": [
              "<Figure size 1200x800 with 1 Axes>"
            ]
          },
          "metadata": {},
          "output_type": "display_data"
        }
      ],
      "source": [
        "plt.figure(figsize=(12, 8))\n",
        "sns.histplot(train_df[train_df['Survived'] == 1]['Age'], bins=10, kde=True, color='skyblue', label='Survived')\n",
        "plt.title('Distribution of Ages Survived')\n",
        "plt.xlabel('Age')\n",
        "plt.ylabel('Count')\n",
        "plt.legend()\n",
        "plt.show()"
      ]
    },
    {
      "cell_type": "code",
      "execution_count": 29,
      "metadata": {},
      "outputs": [
        {
          "name": "stderr",
          "output_type": "stream",
          "text": [
            "/Users/dimafomin/.pyenv/versions/3.10.11/lib/python3.10/site-packages/seaborn/_oldcore.py:1119: FutureWarning: use_inf_as_na option is deprecated and will be removed in a future version. Convert inf values to NaN before operating instead.\n",
            "  with pd.option_context('mode.use_inf_as_na', True):\n"
          ]
        },
        {
          "data": {
            "image/png": "[encoded data removed]",
            "text/plain": [
              "<Figure size 1200x800 with 1 Axes>"
            ]
          },
          "metadata": {},
          "output_type": "display_data"
        }
      ],
      "source": [
        "plt.figure(figsize=(12, 8))\n",
        "sns.histplot(train_df[train_df['Survived'] == 0]['Age'], bins=10, kde=True, color='coral', label='Not Survived')\n",
        "plt.title('Distribution of Ages Not_survived')\n",
        "plt.xlabel('Age')\n",
        "plt.ylabel('Count')\n",
        "plt.legend()\n",
        "plt.show()"
      ]
    },
    {
      "cell_type": "code",
      "execution_count": 30,
      "metadata": {},
      "outputs": [
        {
          "data": {
            "text/plain": [
              "count    714.000000\n",
              "mean      29.699118\n",
              "std       14.526497\n",
              "min        0.420000\n",
              "25%       20.125000\n",
              "50%       28.000000\n",
              "75%       38.000000\n",
              "max       80.000000\n",
              "Name: Age, dtype: float64"
            ]
          },
          "execution_count": 30,
          "metadata": {},
          "output_type": "execute_result"
        }
      ],
      "source": [
        "train_df['Age'].describe()"
      ]
    },
    {
      "cell_type": "markdown",
      "metadata": {},
      "source": [
        "Опиши возраст"
      ]
    },
    {
      "cell_type": "code",
      "execution_count": 31,
      "metadata": {},
      "outputs": [
        {
          "name": "stderr",
          "output_type": "stream",
          "text": [
            "/Users/dimafomin/.pyenv/versions/3.10.11/lib/python3.10/site-packages/seaborn/_oldcore.py:1119: FutureWarning: use_inf_as_na option is deprecated and will be removed in a future version. Convert inf values to NaN before operating instead.\n",
            "  with pd.option_context('mode.use_inf_as_na', True):\n",
            "No artists with labels found to put in legend.  Note that artists whose label start with an underscore are ignored when legend() is called with no argument.\n"
          ]
        },
        {
          "data": {
            "image/png": "[encoded data removed]",
            "text/plain": [
              "<Figure size 1200x800 with 1 Axes>"
            ]
          },
          "metadata": {},
          "output_type": "display_data"
        }
      ],
      "source": [
        "plt.figure(figsize=(12, 8))\n",
        "sns.histplot(train_df['Fare'], bins=30, kde=True, color='coral')\n",
        "plt.xlabel('Fare')\n",
        "plt.ylabel('Count')\n",
        "plt.legend()\n",
        "plt.show()"
      ]
    },
    {
      "cell_type": "code",
      "execution_count": 32,
      "metadata": {},
      "outputs": [
        {
          "data": {
            "text/plain": [
              "count    891.000000\n",
              "mean      32.204208\n",
              "std       49.693429\n",
              "min        0.000000\n",
              "25%        7.910400\n",
              "50%       14.454200\n",
              "75%       31.000000\n",
              "max      512.329200\n",
              "Name: Fare, dtype: float64"
            ]
          },
          "execution_count": 32,
          "metadata": {},
          "output_type": "execute_result"
        }
      ],
      "source": [
        "train_df['Fare'].describe()"
      ]
    },
    {
      "cell_type": "markdown",
      "metadata": {},
      "source": [
        "Опиши распредление стоимости билетов"
      ]
    },
    {
      "cell_type": "code",
      "execution_count": 33,
      "metadata": {},
      "outputs": [
        {
          "data": {
            "image/png": "[encoded data removed]",
            "text/plain": [
              "<Figure size 800x600 with 1 Axes>"
            ]
          },
          "metadata": {},
          "output_type": "display_data"
        }
      ],
      "source": [
        "emb = train_df['Embarked'].value_counts().reset_index()\n",
        "\n",
        "plt.figure(figsize=(8, 6))\n",
        "sns.barplot(x='Embarked', y='count', data=emb, palette='viridis')\n",
        "plt.xlabel('Embarked')\n",
        "plt.ylabel('Number of passengers by embark position')\n",
        "plt.show()"
      ]
    },
    {
      "cell_type": "code",
      "execution_count": 34,
      "metadata": {},
      "outputs": [
        {
          "data": {
            "image/png": "[encoded data removed]",
            "text/plain": [
              "<Figure size 800x600 with 1 Axes>"
            ]
          },
          "metadata": {},
          "output_type": "display_data"
        }
      ],
      "source": [
        "survived_emb = train_df.groupby(['Embarked', 'Survived']).size().unstack()\n",
        "survived_emb.columns = ['Not_Survived', 'Survived']\n",
        "survived_emb = survived_emb.reset_index()\n",
        "\n",
        "plt.figure(figsize=(8, 6))\n",
        "sns.barplot(x='Embarked', y='Not_Survived', data=survived_emb, color='coral', label='Did not Survive')\n",
        "sns.barplot(x='Embarked', y='Survived', data=survived_emb, color='skyblue', label='Survived')\n",
        "plt.legend()\n",
        "plt.xlabel('Pclass')\n",
        "plt.ylabel('Count')\n",
        "plt.show()"
      ]
    },
    {
      "cell_type": "code",
      "execution_count": 35,
      "metadata": {},
      "outputs": [
        {
          "data": {
            "text/html": [
              "<div>\n",
              "<style scoped>\n",
              "    .dataframe tbody tr th:only-of-type {\n",
              "        vertical-align: middle;\n",
              "    }\n",
              "\n",
              "    .dataframe tbody tr th {\n",
              "        vertical-align: top;\n",
              "    }\n",
              "\n",
              "    .dataframe thead th {\n",
              "        text-align: right;\n",
              "    }\n",
              "</style>\n",
              "<table border=\"1\" class=\"dataframe\">\n",
              "  <thead>\n",
              "    <tr style=\"text-align: right;\">\n",
              "      <th></th>\n",
              "      <th>Embarked</th>\n",
              "      <th>Not_Survived</th>\n",
              "      <th>Survived</th>\n",
              "      <th>percent</th>\n",
              "    </tr>\n",
              "  </thead>\n",
              "  <tbody>\n",
              "    <tr>\n",
              "      <th>0</th>\n",
              "      <td>C</td>\n",
              "      <td>75</td>\n",
              "      <td>93</td>\n",
              "      <td>0.553571</td>\n",
              "    </tr>\n",
              "    <tr>\n",
              "      <th>1</th>\n",
              "      <td>Q</td>\n",
              "      <td>47</td>\n",
              "      <td>30</td>\n",
              "      <td>0.389610</td>\n",
              "    </tr>\n",
              "    <tr>\n",
              "      <th>2</th>\n",
              "      <td>S</td>\n",
              "      <td>427</td>\n",
              "      <td>217</td>\n",
              "      <td>0.336957</td>\n",
              "    </tr>\n",
              "  </tbody>\n",
              "</table>\n",
              "</div>"
            ],
            "text/plain": [
              "  Embarked  Not_Survived  Survived   percent\n",
              "0        C            75        93  0.553571\n",
              "1        Q            47        30  0.389610\n",
              "2        S           427       217  0.336957"
            ]
          },
          "execution_count": 35,
          "metadata": {},
          "output_type": "execute_result"
        }
      ],
      "source": [
        "survived_emb['percent'] = survived_emb['Survived'] / (survived_emb['Survived'] + survived_emb['Not_Survived'])\n",
        "survived_emb"
      ]
    },
    {
      "cell_type": "markdown",
      "metadata": {},
      "source": [
        "Опиcывай место посадки"
      ]
    },
    {
      "cell_type": "markdown",
      "metadata": {},
      "source": [
        "Пиши резюме"
      ]
    },
    {
      "cell_type": "markdown",
      "metadata": {
        "_uuid": "410a8017f065abc6ca809debe6d6314e29d9ec46",
        "id": "LWXUggWPlbAw"
      },
      "source": [
        "*Example:*\n",
        "From the total female passengers, *n*% survived.  \n",
        "In the same time, from the total male passengers, only m% survived."
      ]
    },
    {
      "cell_type": "markdown",
      "metadata": {
        "_uuid": "674450c7d711046ece6889cbe2923d4b2217e0ea",
        "id": "ptAx8aEclbA8"
      },
      "source": [
        "\n",
        "## <a id='50'>Split the data</a>  \n",
        "\n",
        "Let's split the training and validation set. We will use a 80-20 split. Don't forget to fix random_state. \n"
      ]
    },
    {
      "cell_type": "markdown",
      "metadata": {},
      "source": [
        "Заполняем пропуски в месте посадки S, потому что наиболее распространенный вариант"
      ]
    },
    {
      "cell_type": "code",
      "execution_count": 36,
      "metadata": {},
      "outputs": [],
      "source": [
        "train_df['Embarked'] = train_df['Embarked'].fillna('S')\n",
        "train_df['Age'] = train_df['Age'].fillna(train_df['Age'].mean())"
      ]
    },
    {
      "cell_type": "code",
      "execution_count": 37,
      "metadata": {},
      "outputs": [],
      "source": [
        "train_df['Sex'] = train_df['Sex'].apply(lambda x: 1 if x == 'female' else 0)"
      ]
    },
    {
      "cell_type": "code",
      "execution_count": 38,
      "metadata": {},
      "outputs": [],
      "source": [
        "def get_emb(row):\n",
        "    if row == 'C':\n",
        "        return 0\n",
        "    if row == 'Q':\n",
        "        return 1\n",
        "    if row == 'S':\n",
        "        return 2\n",
        "    \n",
        "train_df['Embarked'] = train_df['Embarked'].apply(get_emb)"
      ]
    },
    {
      "cell_type": "code",
      "execution_count": 39,
      "metadata": {
        "_kg_hide-input": true,
        "_uuid": "b4bbf9a7175f4bf24bc39192037768cf5926d04a",
        "id": "_3XnQw6BlbA8",
        "trusted": true
      },
      "outputs": [],
      "source": [
        "#your code is here\n",
        "train, validation = train_test_split(train_df, test_size=0.2)"
      ]
    },
    {
      "cell_type": "markdown",
      "metadata": {
        "_uuid": "87f2054b07681134ab6ce19d46f955fe5217a6d5",
        "id": "czTvS_cClbA8"
      },
      "source": [
        "\n",
        "## <a id='51'>Build a model</a>  "
      ]
    },
    {
      "cell_type": "markdown",
      "metadata": {
        "_uuid": "13d69dc08c0c8efdc4ae890ada0cd0b17f535125",
        "id": "dnGTphxclbA8"
      },
      "source": [
        "We will start with a simple model (baseline), with just two features, the `Sex` and `Pclass`. Create DesicionTreeClassifier and RandomForestClassifier, based on this features, without tuning parameters. \n",
        "\n",
        "Next, create two more complicated models: DesicionTreeClassifier and RandomForestClassifier with adding at least one feature you found useful as a result of your analysis.\n",
        "\n",
        "Find accuracy score for all models. Is it a good idea to use accuracy? Any suggestions about metrics? \n",
        "\n",
        "Then try to tune at least one parameter for every model using grid search and write down features and parameters, which gave you best score. "
      ]
    },
    {
      "cell_type": "markdown",
      "metadata": {},
      "source": [
        "Decision tree"
      ]
    },
    {
      "cell_type": "code",
      "execution_count": 40,
      "metadata": {
        "id": "jMSkNGtXzg-B"
      },
      "outputs": [
        {
          "name": "stdout",
          "output_type": "stream",
          "text": [
            "0.7921% on train - accuracy\n",
            "0.7654% on test - accuracy\n"
          ]
        }
      ],
      "source": [
        "from sklearn.metrics import accuracy_score\n",
        "from sklearn.tree import DecisionTreeClassifier\n",
        "from sklearn.ensemble import RandomForestClassifier\n",
        "\n",
        "features = ['Sex', 'Pclass']\n",
        "target = 'Survived'\n",
        "\n",
        "x_train = train[features]\n",
        "y_train = train[target]\n",
        "\n",
        "x_test = validation[features]\n",
        "y_test = validation[target]\n",
        "\n",
        "tree_1 = DecisionTreeClassifier(random_state=42)\n",
        "\n",
        "tree_1.fit(x_train, y_train)\n",
        "\n",
        "y_train_pred = tree_1.predict(x_train)\n",
        "y_test_pred = tree_1.predict(x_test)\n",
        "\n",
        "accuracy_score_train = accuracy_score(y_train, y_train_pred)\n",
        "accuracy_score_test = accuracy_score(y_test, y_test_pred)\n",
        "\n",
        "print(f'{accuracy_score_train:.4f}% on train - accuracy')\n",
        "print(f'{accuracy_score_test:.4f}% on test - accuracy')\n"
      ]
    },
    {
      "cell_type": "markdown",
      "metadata": {},
      "source": [
        "Random forest"
      ]
    },
    {
      "cell_type": "code",
      "execution_count": 41,
      "metadata": {},
      "outputs": [
        {
          "name": "stdout",
          "output_type": "stream",
          "text": [
            "0.7921% on train - accuracy\n",
            "0.7654% on test - accuracy\n"
          ]
        }
      ],
      "source": [
        "features = ['Sex', 'Pclass']\n",
        "target = 'Survived'\n",
        "\n",
        "x_train = train[features]\n",
        "y_train = train[target]\n",
        "\n",
        "x_test = validation[features]\n",
        "y_test = validation[target]\n",
        "\n",
        "forest_1 = RandomForestClassifier(random_state=42)\n",
        "\n",
        "forest_1.fit(x_train, y_train)\n",
        "\n",
        "y_train_pred = forest_1.predict(x_train)\n",
        "y_test_pred = forest_1.predict(x_test)\n",
        "\n",
        "accuracy_score_train = accuracy_score(y_train, y_train_pred)\n",
        "accuracy_score_test = accuracy_score(y_test, y_test_pred)\n",
        "\n",
        "print(f'{accuracy_score_train:.4f}% on train - accuracy')\n",
        "print(f'{accuracy_score_test:.4f}% on test - accuracy')"
      ]
    },
    {
      "cell_type": "markdown",
      "metadata": {},
      "source": [
        "Decision tree adding new feature"
      ]
    },
    {
      "cell_type": "code",
      "execution_count": 42,
      "metadata": {},
      "outputs": [
        {
          "name": "stdout",
          "output_type": "stream",
          "text": [
            "0.8792% on train - accuracy\n",
            "0.7821% on test - accuracy\n"
          ]
        }
      ],
      "source": [
        "features = ['Sex', 'Pclass', 'Age']\n",
        "target = 'Survived'\n",
        "\n",
        "x_train = train[features]\n",
        "y_train = train[target]\n",
        "\n",
        "x_test = validation[features]\n",
        "y_test = validation[target]\n",
        "\n",
        "tree_2 = DecisionTreeClassifier(random_state=42)\n",
        "\n",
        "tree_2.fit(x_train, y_train)\n",
        "\n",
        "y_train_pred = tree_2.predict(x_train)\n",
        "y_test_pred = tree_2.predict(x_test)\n",
        "\n",
        "accuracy_score_train = accuracy_score(y_train, y_train_pred)\n",
        "accuracy_score_test = accuracy_score(y_test, y_test_pred)\n",
        "\n",
        "print(f'{accuracy_score_train:.4f}% on train - accuracy')\n",
        "print(f'{accuracy_score_test:.4f}% on test - accuracy')"
      ]
    },
    {
      "cell_type": "markdown",
      "metadata": {},
      "source": [
        "Random forest adding new feature"
      ]
    },
    {
      "cell_type": "code",
      "execution_count": 43,
      "metadata": {},
      "outputs": [
        {
          "name": "stdout",
          "output_type": "stream",
          "text": [
            "0.8792% on train - accuracy\n",
            "0.7989% on test - accuracy\n"
          ]
        }
      ],
      "source": [
        "features = ['Sex', 'Pclass', 'Age']\n",
        "target = 'Survived'\n",
        "\n",
        "x_train = train[features]\n",
        "y_train = train[target]\n",
        "\n",
        "x_test = validation[features]\n",
        "y_test = validation[target]\n",
        "\n",
        "forest_2 = RandomForestClassifier(random_state=42)\n",
        "\n",
        "forest_2.fit(x_train, y_train)\n",
        "\n",
        "y_train_pred = forest_2.predict(x_train)\n",
        "y_test_pred = forest_2.predict(x_test)\n",
        "\n",
        "accuracy_score_train = accuracy_score(y_train, y_train_pred)\n",
        "accuracy_score_test = accuracy_score(y_test, y_test_pred)\n",
        "\n",
        "print(f'{accuracy_score_train:.4f}% on train - accuracy')\n",
        "print(f'{accuracy_score_test:.4f}% on test - accuracy')"
      ]
    },
    {
      "cell_type": "markdown",
      "metadata": {},
      "source": [
        "Описывай метрики"
      ]
    },
    {
      "cell_type": "code",
      "execution_count": 44,
      "metadata": {},
      "outputs": [
        {
          "name": "stdout",
          "output_type": "stream",
          "text": [
            "0.8792% on train - accuracy\n",
            "0.7989% on test - accuracy\n",
            "0.8577% on train - precision\n",
            "0.8305% on test - precision\n",
            "0.8127% on train - recall\n",
            "0.6533% on test - recall\n",
            "0.8346% on train - f1\n",
            "0.7313% on test - f1\n",
            "0.8659% on train - roc-auc\n",
            "0.7786% on test - roc-auc\n"
          ]
        }
      ],
      "source": [
        "from sklearn.metrics import precision_score, recall_score, f1_score, roc_auc_score\n",
        "\n",
        "accuracy_score_train = accuracy_score(y_train, y_train_pred)\n",
        "accuracy_score_test = accuracy_score(y_test, y_test_pred)\n",
        "\n",
        "print(f'{accuracy_score_train:.4f}% on train - accuracy')\n",
        "print(f'{accuracy_score_test:.4f}% on test - accuracy')\n",
        "\n",
        "precision_score_train = precision_score(y_train, y_train_pred)\n",
        "precision_score_test = precision_score(y_test, y_test_pred)\n",
        "\n",
        "print(f'{precision_score_train:.4f}% on train - precision')\n",
        "print(f'{precision_score_test:.4f}% on test - precision')\n",
        "\n",
        "recall_score_train = recall_score(y_train, y_train_pred)\n",
        "recall_score_test = recall_score(y_test, y_test_pred)\n",
        "\n",
        "print(f'{recall_score_train:.4f}% on train - recall')\n",
        "print(f'{recall_score_test:.4f}% on test - recall')\n",
        "\n",
        "f1_score_train = f1_score(y_train, y_train_pred)\n",
        "f1_score_test = f1_score(y_test, y_test_pred)\n",
        "\n",
        "print(f'{f1_score_train:.4f}% on train - f1')\n",
        "print(f'{f1_score_test:.4f}% on test - f1')\n",
        "\n",
        "roc_auc_score_train = roc_auc_score(y_train, y_train_pred)\n",
        "roc_auc_score_test = roc_auc_score(y_test, y_test_pred)\n",
        "\n",
        "print(f'{roc_auc_score_train:.4f}% on train - roc-auc')\n",
        "print(f'{roc_auc_score_test:.4f}% on test - roc-auc')\n"
      ]
    },
    {
      "cell_type": "markdown",
      "metadata": {},
      "source": [
        "Decision tree with gridcv and new feature"
      ]
    },
    {
      "cell_type": "code",
      "execution_count": 52,
      "metadata": {},
      "outputs": [
        {
          "name": "stdout",
          "output_type": "stream",
          "text": [
            "Best Parameters: {'max_depth': 6, 'min_samples_leaf': 1, 'min_samples_split': 2}\n"
          ]
        }
      ],
      "source": [
        "from sklearn.model_selection import GridSearchCV\n",
        "\n",
        "features = ['Sex', 'Pclass', 'Age', 'Embarked', 'Fare']\n",
        "target = 'Survived'\n",
        "\n",
        "x_train = train[features]\n",
        "y_train = train[target]\n",
        "\n",
        "x_test = validation[features]\n",
        "y_test = validation[target]\n",
        "\n",
        "x_train = train[features]\n",
        "y_train = train[target]\n",
        "\n",
        "x_test = validation[features]\n",
        "y_test = validation[target]\n",
        "\n",
        "params = {'max_depth': [None, 2, 4, 6, 8, 10, 20, 30, 40, 50],\n",
        "        'min_samples_split': [2, 5, 10],\n",
        "        'min_samples_leaf': [1, 2, 4, 8, 16],\n",
        "        }\n",
        "\n",
        "tree_gs = GridSearchCV(\n",
        "    DecisionTreeClassifier(random_state=42),\n",
        "    param_grid=params,\n",
        "    cv = 10,\n",
        "    scoring = 'accuracy'\n",
        ")\n",
        "\n",
        "tree_gs.fit(x_train, y_train)\n",
        "print(\"Best Parameters:\", tree_gs.best_params_)\n",
        "\n",
        "y_train_pred = tree_gs.predict(x_train)\n",
        "y_test_pred = tree_gs.predict(x_test)"
      ]
    },
    {
      "cell_type": "code",
      "execution_count": 53,
      "metadata": {},
      "outputs": [
        {
          "name": "stdout",
          "output_type": "stream",
          "text": [
            "0.8567% on train - accuracy\n",
            "0.7654% on test - accuracy\n",
            "0.9365% on train - precision\n",
            "0.9024% on test - precision\n",
            "0.6629% on train - recall\n",
            "0.4933% on test - recall\n",
            "0.7763% on train - f1\n",
            "0.6379% on test - f1\n",
            "0.8180% on train - roc-auc\n",
            "0.7274% on test - roc-auc\n"
          ]
        }
      ],
      "source": [
        "accuracy_score_train = accuracy_score(y_train, y_train_pred)\n",
        "accuracy_score_test = accuracy_score(y_test, y_test_pred)\n",
        "\n",
        "print(f'{accuracy_score_train:.4f}% on train - accuracy')\n",
        "print(f'{accuracy_score_test:.4f}% on test - accuracy')\n",
        "\n",
        "precision_score_train = precision_score(y_train, y_train_pred)\n",
        "precision_score_test = precision_score(y_test, y_test_pred)\n",
        "\n",
        "print(f'{precision_score_train:.4f}% on train - precision')\n",
        "print(f'{precision_score_test:.4f}% on test - precision')\n",
        "\n",
        "recall_score_train = recall_score(y_train, y_train_pred)\n",
        "recall_score_test = recall_score(y_test, y_test_pred)\n",
        "\n",
        "print(f'{recall_score_train:.4f}% on train - recall')\n",
        "print(f'{recall_score_test:.4f}% on test - recall')\n",
        "\n",
        "f1_score_train = f1_score(y_train, y_train_pred)\n",
        "f1_score_test = f1_score(y_test, y_test_pred)\n",
        "\n",
        "print(f'{f1_score_train:.4f}% on train - f1')\n",
        "print(f'{f1_score_test:.4f}% on test - f1')\n",
        "\n",
        "roc_auc_score_train = roc_auc_score(y_train, y_train_pred)\n",
        "roc_auc_score_test = roc_auc_score(y_test, y_test_pred)\n",
        "\n",
        "print(f'{roc_auc_score_train:.4f}% on train - roc-auc')\n",
        "print(f'{roc_auc_score_test:.4f}% on test - roc-auc')"
      ]
    },
    {
      "cell_type": "markdown",
      "metadata": {},
      "source": [
        "Описывай модель со скорингом аккураси"
      ]
    },
    {
      "cell_type": "code",
      "execution_count": null,
      "metadata": {},
      "outputs": [],
      "source": [
        "features = ['Sex', 'Pclass', 'Age', 'Embarked', 'Fare']\n",
        "target = 'Survived'\n",
        "\n",
        "x_train = train[features]\n",
        "y_train = train[target]\n",
        "\n",
        "x_test = validation[features]\n",
        "y_test = validation[target]\n",
        "\n",
        "x_train = train[features]\n",
        "y_train = train[target]\n",
        "\n",
        "x_test = validation[features]\n",
        "y_test = validation[target]\n",
        "\n",
        "params = {'max_depth': [None, 2, 4, 6, 8, 10, 20, 30, 40, 50],\n",
        "        'min_samples_split': [2, 5, 10],\n",
        "        'min_samples_leaf': [1, 2, 4, 8, 16],\n",
        "        }\n",
        "\n",
        "tree_gs = GridSearchCV(\n",
        "    DecisionTreeClassifier(random_state=42),\n",
        "    param_grid=params,\n",
        "    cv = 10,\n",
        "    scoring = 'precision'\n",
        ")\n",
        "\n",
        "tree_gs.fit(x_train, y_train)\n",
        "print(\"Best Parameters:\", tree_gs.best_params_)\n",
        "\n",
        "y_train_pred = tree_gs.predict(x_train)\n",
        "y_test_pred = tree_gs.predict(x_test)"
      ]
    },
    {
      "cell_type": "code",
      "execution_count": null,
      "metadata": {},
      "outputs": [],
      "source": [
        "accuracy_score_train = accuracy_score(y_train, y_train_pred)\n",
        "accuracy_score_test = accuracy_score(y_test, y_test_pred)\n",
        "\n",
        "print(f'{accuracy_score_train:.4f}% on train - accuracy')\n",
        "print(f'{accuracy_score_test:.4f}% on test - accuracy')\n",
        "\n",
        "precision_score_train = precision_score(y_train, y_train_pred)\n",
        "precision_score_test = precision_score(y_test, y_test_pred)\n",
        "\n",
        "print(f'{precision_score_train:.4f}% on train - precision')\n",
        "print(f'{precision_score_test:.4f}% on test - precision')\n",
        "\n",
        "recall_score_train = recall_score(y_train, y_train_pred)\n",
        "recall_score_test = recall_score(y_test, y_test_pred)\n",
        "\n",
        "print(f'{recall_score_train:.4f}% on train - recall')\n",
        "print(f'{recall_score_test:.4f}% on test - recall')\n",
        "\n",
        "f1_score_train = f1_score(y_train, y_train_pred)\n",
        "f1_score_test = f1_score(y_test, y_test_pred)\n",
        "\n",
        "print(f'{f1_score_train:.4f}% on train - f1')\n",
        "print(f'{f1_score_test:.4f}% on test - f1')\n",
        "\n",
        "roc_auc_score_train = roc_auc_score(y_train, y_train_pred)\n",
        "roc_auc_score_test = roc_auc_score(y_test, y_test_pred)\n",
        "\n",
        "print(f'{roc_auc_score_train:.4f}% on train - roc-auc')\n",
        "print(f'{roc_auc_score_test:.4f}% on test - roc-auc')"
      ]
    },
    {
      "cell_type": "markdown",
      "metadata": {},
      "source": [
        "Описывай модель со скорингом пресижн"
      ]
    },
    {
      "cell_type": "code",
      "execution_count": null,
      "metadata": {},
      "outputs": [],
      "source": [
        "features = ['Sex', 'Pclass', 'Age', 'Embarked', 'Fare']\n",
        "target = 'Survived'\n",
        "\n",
        "x_train = train[features]\n",
        "y_train = train[target]\n",
        "\n",
        "x_test = validation[features]\n",
        "y_test = validation[target]\n",
        "\n",
        "x_train = train[features]\n",
        "y_train = train[target]\n",
        "\n",
        "x_test = validation[features]\n",
        "y_test = validation[target]\n",
        "\n",
        "params = {'max_depth': [None, 2, 4, 6, 8, 10, 20, 30, 40, 50],\n",
        "        'min_samples_split': [2, 5, 10],\n",
        "        'min_samples_leaf': [1, 2, 4, 8, 16],\n",
        "        }\n",
        "\n",
        "tree_gs = GridSearchCV(\n",
        "    DecisionTreeClassifier(random_state=42),\n",
        "    param_grid=params,\n",
        "    cv = 10,\n",
        "    scoring = 'recall'\n",
        ")\n",
        "\n",
        "tree_gs.fit(x_train, y_train)\n",
        "print(\"Best Parameters:\", tree_gs.best_params_)\n",
        "\n",
        "y_train_pred = tree_gs.predict(x_train)\n",
        "y_test_pred = tree_gs.predict(x_test)"
      ]
    },
    {
      "cell_type": "code",
      "execution_count": null,
      "metadata": {},
      "outputs": [],
      "source": [
        "accuracy_score_train = accuracy_score(y_train, y_train_pred)\n",
        "accuracy_score_test = accuracy_score(y_test, y_test_pred)\n",
        "\n",
        "print(f'{accuracy_score_train:.4f}% on train - accuracy')\n",
        "print(f'{accuracy_score_test:.4f}% on test - accuracy')\n",
        "\n",
        "precision_score_train = precision_score(y_train, y_train_pred)\n",
        "precision_score_test = precision_score(y_test, y_test_pred)\n",
        "\n",
        "print(f'{precision_score_train:.4f}% on train - precision')\n",
        "print(f'{precision_score_test:.4f}% on test - precision')\n",
        "\n",
        "recall_score_train = recall_score(y_train, y_train_pred)\n",
        "recall_score_test = recall_score(y_test, y_test_pred)\n",
        "\n",
        "print(f'{recall_score_train:.4f}% on train - recall')\n",
        "print(f'{recall_score_test:.4f}% on test - recall')\n",
        "\n",
        "f1_score_train = f1_score(y_train, y_train_pred)\n",
        "f1_score_test = f1_score(y_test, y_test_pred)\n",
        "\n",
        "print(f'{f1_score_train:.4f}% on train - f1')\n",
        "print(f'{f1_score_test:.4f}% on test - f1')\n",
        "\n",
        "roc_auc_score_train = roc_auc_score(y_train, y_train_pred)\n",
        "roc_auc_score_test = roc_auc_score(y_test, y_test_pred)\n",
        "\n",
        "print(f'{roc_auc_score_train:.4f}% on train - roc-auc')\n",
        "print(f'{roc_auc_score_test:.4f}% on test - roc-auc')"
      ]
    },
    {
      "cell_type": "markdown",
      "metadata": {},
      "source": [
        "Описываай модель со скорингом рекалл"
      ]
    },
    {
      "cell_type": "code",
      "execution_count": 54,
      "metadata": {},
      "outputs": [
        {
          "name": "stdout",
          "output_type": "stream",
          "text": [
            "Best Parameters: {'max_depth': 4, 'min_samples_leaf': 1, 'min_samples_split': 10, 'n_estimators': 200}\n"
          ]
        }
      ],
      "source": [
        "features = ['Sex', 'Pclass', 'Age', 'Embarked', 'Fare']\n",
        "target = 'Survived'\n",
        "\n",
        "x_train = train[features]\n",
        "y_train = train[target]\n",
        "\n",
        "x_test = validation[features]\n",
        "y_test = validation[target]\n",
        "\n",
        "x_train = train[features]\n",
        "y_train = train[target]\n",
        "\n",
        "x_test = validation[features]\n",
        "y_test = validation[target]\n",
        "\n",
        "params = {\n",
        "    'n_estimators': [50, 100, 200],\n",
        "    'max_depth': [None, 2, 4, 6, 8, 10, 20, 30, 40, 50],\n",
        "    'min_samples_split': [2, 5, 10],\n",
        "    'min_samples_leaf': [1, 2, 4, 8, 16],\n",
        "}\n",
        "\n",
        "forest_gs = GridSearchCV(\n",
        "    RandomForestClassifier(random_state=42),\n",
        "    param_grid=params,\n",
        "    cv = 10,\n",
        "    scoring = 'accuracy'\n",
        ")\n",
        "\n",
        "forest_gs.fit(x_train, y_train)\n",
        "print(\"Best Parameters:\", forest_gs.best_params_)\n",
        "\n",
        "y_train_pred = forest_gs.predict(x_train)\n",
        "y_test_pred = forest_gs.predict(x_test)"
      ]
    },
    {
      "cell_type": "code",
      "execution_count": 58,
      "metadata": {},
      "outputs": [
        {
          "name": "stdout",
          "output_type": "stream",
          "text": [
            "0.8525% on train - accuracy\n",
            "0.7933% on test - accuracy\n",
            "0.8971% on train - precision\n",
            "0.8958% on test - precision\n",
            "0.6854% on train - recall\n",
            "0.5733% on test - recall\n",
            "0.7771% on train - f1\n",
            "0.6992% on test - f1\n",
            "0.8191% on train - roc-auc\n",
            "0.7626% on test - roc-auc\n"
          ]
        }
      ],
      "source": [
        "accuracy_score_train = accuracy_score(y_train, y_train_pred)\n",
        "accuracy_score_test = accuracy_score(y_test, y_test_pred)\n",
        "\n",
        "print(f'{accuracy_score_train:.4f}% on train - accuracy')\n",
        "print(f'{accuracy_score_test:.4f}% on test - accuracy')\n",
        "\n",
        "precision_score_train = precision_score(y_train, y_train_pred)\n",
        "precision_score_test = precision_score(y_test, y_test_pred)\n",
        "\n",
        "print(f'{precision_score_train:.4f}% on train - precision')\n",
        "print(f'{precision_score_test:.4f}% on test - precision')\n",
        "\n",
        "recall_score_train = recall_score(y_train, y_train_pred)\n",
        "recall_score_test = recall_score(y_test, y_test_pred)\n",
        "\n",
        "print(f'{recall_score_train:.4f}% on train - recall')\n",
        "print(f'{recall_score_test:.4f}% on test - recall')\n",
        "\n",
        "f1_score_train = f1_score(y_train, y_train_pred)\n",
        "f1_score_test = f1_score(y_test, y_test_pred)\n",
        "\n",
        "print(f'{f1_score_train:.4f}% on train - f1')\n",
        "print(f'{f1_score_test:.4f}% on test - f1')\n",
        "\n",
        "roc_auc_score_train = roc_auc_score(y_train, y_train_pred)\n",
        "roc_auc_score_test = roc_auc_score(y_test, y_test_pred)\n",
        "\n",
        "print(f'{roc_auc_score_train:.4f}% on train - roc-auc')\n",
        "print(f'{roc_auc_score_test:.4f}% on test - roc-auc')"
      ]
    },
    {
      "cell_type": "markdown",
      "metadata": {},
      "source": [
        "Описывай модель со скорингом аккураси"
      ]
    },
    {
      "cell_type": "code",
      "execution_count": null,
      "metadata": {},
      "outputs": [],
      "source": [
        "features = ['Sex', 'Pclass', 'Age', 'Embarked', 'Fare']\n",
        "target = 'Survived'\n",
        "\n",
        "x_train = train[features]\n",
        "y_train = train[target]\n",
        "\n",
        "x_test = validation[features]\n",
        "y_test = validation[target]\n",
        "\n",
        "x_train = train[features]\n",
        "y_train = train[target]\n",
        "\n",
        "x_test = validation[features]\n",
        "y_test = validation[target]\n",
        "\n",
        "params = {\n",
        "    'n_estimators': [50, 100, 200],\n",
        "    'max_depth': [None, 2, 4, 6, 8, 10, 20, 30, 40, 50],\n",
        "    'min_samples_split': [2, 5, 10],\n",
        "    'min_samples_leaf': [1, 2, 4, 8, 16],\n",
        "}\n",
        "\n",
        "forest_gs = GridSearchCV(\n",
        "    RandomForestClassifier(random_state=42),\n",
        "    param_grid=params,\n",
        "    cv = 10,\n",
        "    scoring = 'precision'\n",
        ")\n",
        "\n",
        "forest_gs.fit(x_train, y_train)\n",
        "print(\"Best Parameters:\", forest_gs.best_params_)\n",
        "\n",
        "y_train_pred = forest_gs.predict(x_train)\n",
        "y_test_pred = forest_gs.predict(x_test)"
      ]
    },
    {
      "cell_type": "code",
      "execution_count": null,
      "metadata": {},
      "outputs": [],
      "source": [
        "accuracy_score_train = accuracy_score(y_train, y_train_pred)\n",
        "accuracy_score_test = accuracy_score(y_test, y_test_pred)\n",
        "\n",
        "print(f'{accuracy_score_train:.4f}% on train - accuracy')\n",
        "print(f'{accuracy_score_test:.4f}% on test - accuracy')\n",
        "\n",
        "precision_score_train = precision_score(y_train, y_train_pred)\n",
        "precision_score_test = precision_score(y_test, y_test_pred)\n",
        "\n",
        "print(f'{precision_score_train:.4f}% on train - precision')\n",
        "print(f'{precision_score_test:.4f}% on test - precision')\n",
        "\n",
        "recall_score_train = recall_score(y_train, y_train_pred)\n",
        "recall_score_test = recall_score(y_test, y_test_pred)\n",
        "\n",
        "print(f'{recall_score_train:.4f}% on train - recall')\n",
        "print(f'{recall_score_test:.4f}% on test - recall')\n",
        "\n",
        "f1_score_train = f1_score(y_train, y_train_pred)\n",
        "f1_score_test = f1_score(y_test, y_test_pred)\n",
        "\n",
        "print(f'{f1_score_train:.4f}% on train - f1')\n",
        "print(f'{f1_score_test:.4f}% on test - f1')\n",
        "\n",
        "roc_auc_score_train = roc_auc_score(y_train, y_train_pred)\n",
        "roc_auc_score_test = roc_auc_score(y_test, y_test_pred)\n",
        "\n",
        "print(f'{roc_auc_score_train:.4f}% on train - roc-auc')\n",
        "print(f'{roc_auc_score_test:.4f}% on test - roc-auc')"
      ]
    },
    {
      "cell_type": "markdown",
      "metadata": {},
      "source": [
        "Описывай модель со скорингом пресижн"
      ]
    },
    {
      "cell_type": "code",
      "execution_count": null,
      "metadata": {},
      "outputs": [],
      "source": [
        "features = ['Sex', 'Pclass', 'Age', 'Embarked', 'Fare']\n",
        "target = 'Survived'\n",
        "\n",
        "x_train = train[features]\n",
        "y_train = train[target]\n",
        "\n",
        "x_test = validation[features]\n",
        "y_test = validation[target]\n",
        "\n",
        "x_train = train[features]\n",
        "y_train = train[target]\n",
        "\n",
        "x_test = validation[features]\n",
        "y_test = validation[target]\n",
        "\n",
        "params = {\n",
        "    'n_estimators': [50, 100, 200],\n",
        "    'max_depth': [None, 2, 4, 6, 8, 10, 20, 30, 40, 50],\n",
        "    'min_samples_split': [2, 5, 10],\n",
        "    'min_samples_leaf': [1, 2, 4, 8, 16],\n",
        "}\n",
        "\n",
        "forest_gs = GridSearchCV(\n",
        "    RandomForestClassifier(random_state=42),\n",
        "    param_grid=params,\n",
        "    cv = 10,\n",
        "    scoring = 'recall'\n",
        ")\n",
        "\n",
        "forest_gs.fit(x_train, y_train)\n",
        "print(\"Best Parameters:\", forest_gs.best_params_)\n",
        "\n",
        "y_train_pred = forest_gs.predict(x_train)\n",
        "y_test_pred = forest_gs.predict(x_test)"
      ]
    },
    {
      "cell_type": "code",
      "execution_count": null,
      "metadata": {},
      "outputs": [],
      "source": [
        "accuracy_score_train = accuracy_score(y_train, y_train_pred)\n",
        "accuracy_score_test = accuracy_score(y_test, y_test_pred)\n",
        "\n",
        "print(f'{accuracy_score_train:.4f}% on train - accuracy')\n",
        "print(f'{accuracy_score_test:.4f}% on test - accuracy')\n",
        "\n",
        "precision_score_train = precision_score(y_train, y_train_pred)\n",
        "precision_score_test = precision_score(y_test, y_test_pred)\n",
        "\n",
        "print(f'{precision_score_train:.4f}% on train - precision')\n",
        "print(f'{precision_score_test:.4f}% on test - precision')\n",
        "\n",
        "recall_score_train = recall_score(y_train, y_train_pred)\n",
        "recall_score_test = recall_score(y_test, y_test_pred)\n",
        "\n",
        "print(f'{recall_score_train:.4f}% on train - recall')\n",
        "print(f'{recall_score_test:.4f}% on test - recall')\n",
        "\n",
        "f1_score_train = f1_score(y_train, y_train_pred)\n",
        "f1_score_test = f1_score(y_test, y_test_pred)\n",
        "\n",
        "print(f'{f1_score_train:.4f}% on train - f1')\n",
        "print(f'{f1_score_test:.4f}% on test - f1')\n",
        "\n",
        "roc_auc_score_train = roc_auc_score(y_train, y_train_pred)\n",
        "roc_auc_score_test = roc_auc_score(y_test, y_test_pred)\n",
        "\n",
        "print(f'{roc_auc_score_train:.4f}% on train - roc-auc')\n",
        "print(f'{roc_auc_score_test:.4f}% on test - roc-auc')"
      ]
    },
    {
      "cell_type": "markdown",
      "metadata": {},
      "source": [
        "описывай модель со скорингом рекалл"
      ]
    },
    {
      "cell_type": "markdown",
      "metadata": {},
      "source": [
        "Общее резюме пиши"
      ]
    }
  ],
  "metadata": {
    "colab": {
      "provenance": []
    },
    "kernelspec": {
      "display_name": "Python 3",
      "language": "python",
      "name": "python3"
    },
    "language_info": {
      "codemirror_mode": {
        "name": "ipython",
        "version": 3
      },
      "file_extension": ".py",
      "mimetype": "text/x-python",
      "name": "python",
      "nbconvert_exporter": "python",
      "pygments_lexer": "ipython3",
      "version": "3.10.11"
    }
  },
  "nbformat": 4,
  "nbformat_minor": 0
}
